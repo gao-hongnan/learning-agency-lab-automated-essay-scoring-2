{
 "cells": [
  {
   "cell_type": "code",
   "execution_count": 20,
   "id": "a15728af-2b4e-4711-b6bc-f275e8d30119",
   "metadata": {},
   "outputs": [],
   "source": [
    "from modeling_latent_attention import LatentAttentionConfig, LatentAttentionModel\n",
    "from transformers import AutoModel\n",
    "from torch import nn\n",
    "# no test\n",
    "class LatentAttentionPooler(nn.Module):\n",
    "    def __init__(self, backbone_config, pooling_config):\n",
    "        super().__init__()\n",
    "        self.latent_attention_model = LatentAttentionModel(pooling_config)\n",
    "        \n",
    "        \n",
    "    def forward(self, backbone_output, attention_mask):\n",
    "        last_hidden_state = backbone_output\n",
    "        ## latent attention layer\n",
    "        hidden = self.latent_attention_model(\n",
    "            last_hidden_state,\n",
    "            attention_mask,\n",
    "        )\n",
    "        return hidden\n",
    "        "
   ]
  },
  {
   "cell_type": "code",
   "execution_count": 26,
   "id": "cbb1f168-cecd-4e04-8905-a4c7a3012a3e",
   "metadata": {},
   "outputs": [],
   "source": [
    "pl_cfg = LatentAttentionConfig(\n",
    "    num_latents_value=768,\n",
    "    num_cross_heads=8,\n",
    "    output_normalize=False,\n",
    "    hidden_dim=768,\n",
    "    latent_dim=768,\n",
    "    cross_dim_head=768,\n",
    ")"
   ]
  },
  {
   "cell_type": "code",
   "execution_count": 27,
   "id": "b159c068-1a50-41d3-b3f0-3a8903b758af",
   "metadata": {},
   "outputs": [],
   "source": [
    "from dataclasses import dataclass\n",
    "model = LatentAttentionPooler(None, pl_cfg)"
   ]
  },
  {
   "cell_type": "code",
   "execution_count": 28,
   "id": "eca77558-79b2-477e-80b8-c24f877c4973",
   "metadata": {},
   "outputs": [
    {
     "data": {
      "text/plain": [
       "tensor([[[0.0277, 0.2548, 0.3677,  ..., 0.4028, 0.0999, 0.8456],\n",
       "         [0.4152, 0.7196, 0.8841,  ..., 0.8151, 0.7119, 0.3561],\n",
       "         [0.3668, 0.6880, 0.6019,  ..., 0.0633, 0.5375, 0.4055],\n",
       "         ...,\n",
       "         [0.9813, 0.5297, 0.4248,  ..., 0.9368, 0.3775, 0.4247],\n",
       "         [0.4143, 0.8532, 0.5202,  ..., 0.2793, 0.4819, 0.4794],\n",
       "         [0.2162, 0.1949, 0.2015,  ..., 0.4187, 0.2838, 0.5744]]])"
      ]
     },
     "execution_count": 28,
     "metadata": {},
     "output_type": "execute_result"
    }
   ],
   "source": [
    "import torch\n",
    "\n",
    "torch.rand((1, 512, 768))"
   ]
  },
  {
   "cell_type": "code",
   "execution_count": 30,
   "id": "cf912781-3d7f-40d2-af26-01572dcf431e",
   "metadata": {},
   "outputs": [
    {
     "data": {
      "text/plain": [
       "torch.Size([1, 768])"
      ]
     },
     "execution_count": 30,
     "metadata": {},
     "output_type": "execute_result"
    }
   ],
   "source": [
    "import torch\n",
    "model(torch.rand((1, 512, 768)), torch.ones((1, 512))).shape"
   ]
  }
 ],
 "metadata": {
  "kernelspec": {
   "display_name": "llm",
   "language": "python",
   "name": "llm"
  },
  "language_info": {
   "codemirror_mode": {
    "name": "ipython",
    "version": 3
   },
   "file_extension": ".py",
   "mimetype": "text/x-python",
   "name": "python",
   "nbconvert_exporter": "python",
   "pygments_lexer": "ipython3",
   "version": "3.10.14"
  }
 },
 "nbformat": 4,
 "nbformat_minor": 5
}
