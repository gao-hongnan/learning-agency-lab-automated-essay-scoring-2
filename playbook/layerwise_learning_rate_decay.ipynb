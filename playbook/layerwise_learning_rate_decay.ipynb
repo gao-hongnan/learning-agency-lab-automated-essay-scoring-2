{
 "cells": [
  {
   "cell_type": "markdown",
   "metadata": {},
   "source": [
    "https://kozodoi.me/blog/20220329/discriminative-lr"
   ]
  },
  {
   "cell_type": "code",
   "execution_count": 1,
   "metadata": {},
   "outputs": [
    {
     "name": "stderr",
     "output_type": "stream",
     "text": [
      "/Users/gaohn/miniconda3/envs/modal/lib/python3.11/site-packages/tqdm/auto.py:21: TqdmWarning: IProgress not found. Please update jupyter and ipywidgets. See https://ipywidgets.readthedocs.io/en/stable/user_install.html\n",
      "  from .autonotebook import tqdm as notebook_tqdm\n"
     ]
    }
   ],
   "source": [
    "from typing import Dict, Iterator, List, Literal, Tuple, Union\n",
    "\n",
    "from rich.pretty import pprint\n",
    "from torch import nn\n",
    "from torch.optim import AdamW\n",
    "from transformers import (\n",
    "    AutoConfig,\n",
    "    AutoModelForSequenceClassification,\n",
    "    DebertaV2ForSequenceClassification,\n",
    "    get_cosine_schedule_with_warmup,\n",
    "    get_linear_schedule_with_warmup,\n",
    "    logging,\n",
    "    DebertaV2PreTrainedModel,\n",
    ")\n",
    "from rich.pretty import pprint\n",
    "from omnivault.utils.torch_utils.model_utils import get_named_parameters\n",
    "\n",
    "logging.set_verbosity_warning()\n",
    "logging.set_verbosity_error()"
   ]
  },
  {
   "cell_type": "code",
   "execution_count": 2,
   "metadata": {},
   "outputs": [
    {
     "name": "stdout",
     "output_type": "stream",
     "text": [
      "0: deberta.embeddings.word_embeddings.weight\n",
      "1: deberta.embeddings.LayerNorm.weight\n",
      "2: deberta.embeddings.LayerNorm.bias\n",
      "3: deberta.encoder.layer.0.attention.self.query_proj.weight\n",
      "4: deberta.encoder.layer.0.attention.self.query_proj.bias\n",
      "5: deberta.encoder.layer.0.attention.self.key_proj.weight\n",
      "6: deberta.encoder.layer.0.attention.self.key_proj.bias\n",
      "7: deberta.encoder.layer.0.attention.self.value_proj.weight\n",
      "8: deberta.encoder.layer.0.attention.self.value_proj.bias\n",
      "9: deberta.encoder.layer.0.attention.output.dense.weight\n",
      "10: deberta.encoder.layer.0.attention.output.dense.bias\n",
      "11: deberta.encoder.layer.0.attention.output.LayerNorm.weight\n",
      "12: deberta.encoder.layer.0.attention.output.LayerNorm.bias\n",
      "13: deberta.encoder.layer.0.intermediate.dense.weight\n",
      "14: deberta.encoder.layer.0.intermediate.dense.bias\n",
      "15: deberta.encoder.layer.0.output.dense.weight\n",
      "16: deberta.encoder.layer.0.output.dense.bias\n",
      "17: deberta.encoder.layer.0.output.LayerNorm.weight\n",
      "18: deberta.encoder.layer.0.output.LayerNorm.bias\n",
      "19: deberta.encoder.layer.1.attention.self.query_proj.weight\n",
      "20: deberta.encoder.layer.1.attention.self.query_proj.bias\n",
      "21: deberta.encoder.layer.1.attention.self.key_proj.weight\n",
      "22: deberta.encoder.layer.1.attention.self.key_proj.bias\n",
      "23: deberta.encoder.layer.1.attention.self.value_proj.weight\n",
      "24: deberta.encoder.layer.1.attention.self.value_proj.bias\n",
      "25: deberta.encoder.layer.1.attention.output.dense.weight\n",
      "26: deberta.encoder.layer.1.attention.output.dense.bias\n",
      "27: deberta.encoder.layer.1.attention.output.LayerNorm.weight\n",
      "28: deberta.encoder.layer.1.attention.output.LayerNorm.bias\n",
      "29: deberta.encoder.layer.1.intermediate.dense.weight\n",
      "30: deberta.encoder.layer.1.intermediate.dense.bias\n",
      "31: deberta.encoder.layer.1.output.dense.weight\n",
      "32: deberta.encoder.layer.1.output.dense.bias\n",
      "33: deberta.encoder.layer.1.output.LayerNorm.weight\n",
      "34: deberta.encoder.layer.1.output.LayerNorm.bias\n",
      "35: deberta.encoder.layer.2.attention.self.query_proj.weight\n",
      "36: deberta.encoder.layer.2.attention.self.query_proj.bias\n",
      "37: deberta.encoder.layer.2.attention.self.key_proj.weight\n",
      "38: deberta.encoder.layer.2.attention.self.key_proj.bias\n",
      "39: deberta.encoder.layer.2.attention.self.value_proj.weight\n",
      "40: deberta.encoder.layer.2.attention.self.value_proj.bias\n",
      "41: deberta.encoder.layer.2.attention.output.dense.weight\n",
      "42: deberta.encoder.layer.2.attention.output.dense.bias\n",
      "43: deberta.encoder.layer.2.attention.output.LayerNorm.weight\n",
      "44: deberta.encoder.layer.2.attention.output.LayerNorm.bias\n",
      "45: deberta.encoder.layer.2.intermediate.dense.weight\n",
      "46: deberta.encoder.layer.2.intermediate.dense.bias\n",
      "47: deberta.encoder.layer.2.output.dense.weight\n",
      "48: deberta.encoder.layer.2.output.dense.bias\n",
      "49: deberta.encoder.layer.2.output.LayerNorm.weight\n",
      "50: deberta.encoder.layer.2.output.LayerNorm.bias\n",
      "51: deberta.encoder.layer.3.attention.self.query_proj.weight\n",
      "52: deberta.encoder.layer.3.attention.self.query_proj.bias\n",
      "53: deberta.encoder.layer.3.attention.self.key_proj.weight\n",
      "54: deberta.encoder.layer.3.attention.self.key_proj.bias\n",
      "55: deberta.encoder.layer.3.attention.self.value_proj.weight\n",
      "56: deberta.encoder.layer.3.attention.self.value_proj.bias\n",
      "57: deberta.encoder.layer.3.attention.output.dense.weight\n",
      "58: deberta.encoder.layer.3.attention.output.dense.bias\n",
      "59: deberta.encoder.layer.3.attention.output.LayerNorm.weight\n",
      "60: deberta.encoder.layer.3.attention.output.LayerNorm.bias\n",
      "61: deberta.encoder.layer.3.intermediate.dense.weight\n",
      "62: deberta.encoder.layer.3.intermediate.dense.bias\n",
      "63: deberta.encoder.layer.3.output.dense.weight\n",
      "64: deberta.encoder.layer.3.output.dense.bias\n",
      "65: deberta.encoder.layer.3.output.LayerNorm.weight\n",
      "66: deberta.encoder.layer.3.output.LayerNorm.bias\n",
      "67: deberta.encoder.layer.4.attention.self.query_proj.weight\n",
      "68: deberta.encoder.layer.4.attention.self.query_proj.bias\n",
      "69: deberta.encoder.layer.4.attention.self.key_proj.weight\n",
      "70: deberta.encoder.layer.4.attention.self.key_proj.bias\n",
      "71: deberta.encoder.layer.4.attention.self.value_proj.weight\n",
      "72: deberta.encoder.layer.4.attention.self.value_proj.bias\n",
      "73: deberta.encoder.layer.4.attention.output.dense.weight\n",
      "74: deberta.encoder.layer.4.attention.output.dense.bias\n",
      "75: deberta.encoder.layer.4.attention.output.LayerNorm.weight\n",
      "76: deberta.encoder.layer.4.attention.output.LayerNorm.bias\n",
      "77: deberta.encoder.layer.4.intermediate.dense.weight\n",
      "78: deberta.encoder.layer.4.intermediate.dense.bias\n",
      "79: deberta.encoder.layer.4.output.dense.weight\n",
      "80: deberta.encoder.layer.4.output.dense.bias\n",
      "81: deberta.encoder.layer.4.output.LayerNorm.weight\n",
      "82: deberta.encoder.layer.4.output.LayerNorm.bias\n",
      "83: deberta.encoder.layer.5.attention.self.query_proj.weight\n",
      "84: deberta.encoder.layer.5.attention.self.query_proj.bias\n",
      "85: deberta.encoder.layer.5.attention.self.key_proj.weight\n",
      "86: deberta.encoder.layer.5.attention.self.key_proj.bias\n",
      "87: deberta.encoder.layer.5.attention.self.value_proj.weight\n",
      "88: deberta.encoder.layer.5.attention.self.value_proj.bias\n",
      "89: deberta.encoder.layer.5.attention.output.dense.weight\n",
      "90: deberta.encoder.layer.5.attention.output.dense.bias\n",
      "91: deberta.encoder.layer.5.attention.output.LayerNorm.weight\n",
      "92: deberta.encoder.layer.5.attention.output.LayerNorm.bias\n",
      "93: deberta.encoder.layer.5.intermediate.dense.weight\n",
      "94: deberta.encoder.layer.5.intermediate.dense.bias\n",
      "95: deberta.encoder.layer.5.output.dense.weight\n",
      "96: deberta.encoder.layer.5.output.dense.bias\n",
      "97: deberta.encoder.layer.5.output.LayerNorm.weight\n",
      "98: deberta.encoder.layer.5.output.LayerNorm.bias\n",
      "99: deberta.encoder.layer.6.attention.self.query_proj.weight\n",
      "100: deberta.encoder.layer.6.attention.self.query_proj.bias\n",
      "101: deberta.encoder.layer.6.attention.self.key_proj.weight\n",
      "102: deberta.encoder.layer.6.attention.self.key_proj.bias\n",
      "103: deberta.encoder.layer.6.attention.self.value_proj.weight\n",
      "104: deberta.encoder.layer.6.attention.self.value_proj.bias\n",
      "105: deberta.encoder.layer.6.attention.output.dense.weight\n",
      "106: deberta.encoder.layer.6.attention.output.dense.bias\n",
      "107: deberta.encoder.layer.6.attention.output.LayerNorm.weight\n",
      "108: deberta.encoder.layer.6.attention.output.LayerNorm.bias\n",
      "109: deberta.encoder.layer.6.intermediate.dense.weight\n",
      "110: deberta.encoder.layer.6.intermediate.dense.bias\n",
      "111: deberta.encoder.layer.6.output.dense.weight\n",
      "112: deberta.encoder.layer.6.output.dense.bias\n",
      "113: deberta.encoder.layer.6.output.LayerNorm.weight\n",
      "114: deberta.encoder.layer.6.output.LayerNorm.bias\n",
      "115: deberta.encoder.layer.7.attention.self.query_proj.weight\n",
      "116: deberta.encoder.layer.7.attention.self.query_proj.bias\n",
      "117: deberta.encoder.layer.7.attention.self.key_proj.weight\n",
      "118: deberta.encoder.layer.7.attention.self.key_proj.bias\n",
      "119: deberta.encoder.layer.7.attention.self.value_proj.weight\n",
      "120: deberta.encoder.layer.7.attention.self.value_proj.bias\n",
      "121: deberta.encoder.layer.7.attention.output.dense.weight\n",
      "122: deberta.encoder.layer.7.attention.output.dense.bias\n",
      "123: deberta.encoder.layer.7.attention.output.LayerNorm.weight\n",
      "124: deberta.encoder.layer.7.attention.output.LayerNorm.bias\n",
      "125: deberta.encoder.layer.7.intermediate.dense.weight\n",
      "126: deberta.encoder.layer.7.intermediate.dense.bias\n",
      "127: deberta.encoder.layer.7.output.dense.weight\n",
      "128: deberta.encoder.layer.7.output.dense.bias\n",
      "129: deberta.encoder.layer.7.output.LayerNorm.weight\n",
      "130: deberta.encoder.layer.7.output.LayerNorm.bias\n",
      "131: deberta.encoder.layer.8.attention.self.query_proj.weight\n",
      "132: deberta.encoder.layer.8.attention.self.query_proj.bias\n",
      "133: deberta.encoder.layer.8.attention.self.key_proj.weight\n",
      "134: deberta.encoder.layer.8.attention.self.key_proj.bias\n",
      "135: deberta.encoder.layer.8.attention.self.value_proj.weight\n",
      "136: deberta.encoder.layer.8.attention.self.value_proj.bias\n",
      "137: deberta.encoder.layer.8.attention.output.dense.weight\n",
      "138: deberta.encoder.layer.8.attention.output.dense.bias\n",
      "139: deberta.encoder.layer.8.attention.output.LayerNorm.weight\n",
      "140: deberta.encoder.layer.8.attention.output.LayerNorm.bias\n",
      "141: deberta.encoder.layer.8.intermediate.dense.weight\n",
      "142: deberta.encoder.layer.8.intermediate.dense.bias\n",
      "143: deberta.encoder.layer.8.output.dense.weight\n",
      "144: deberta.encoder.layer.8.output.dense.bias\n",
      "145: deberta.encoder.layer.8.output.LayerNorm.weight\n",
      "146: deberta.encoder.layer.8.output.LayerNorm.bias\n",
      "147: deberta.encoder.layer.9.attention.self.query_proj.weight\n",
      "148: deberta.encoder.layer.9.attention.self.query_proj.bias\n",
      "149: deberta.encoder.layer.9.attention.self.key_proj.weight\n",
      "150: deberta.encoder.layer.9.attention.self.key_proj.bias\n",
      "151: deberta.encoder.layer.9.attention.self.value_proj.weight\n",
      "152: deberta.encoder.layer.9.attention.self.value_proj.bias\n",
      "153: deberta.encoder.layer.9.attention.output.dense.weight\n",
      "154: deberta.encoder.layer.9.attention.output.dense.bias\n",
      "155: deberta.encoder.layer.9.attention.output.LayerNorm.weight\n",
      "156: deberta.encoder.layer.9.attention.output.LayerNorm.bias\n",
      "157: deberta.encoder.layer.9.intermediate.dense.weight\n",
      "158: deberta.encoder.layer.9.intermediate.dense.bias\n",
      "159: deberta.encoder.layer.9.output.dense.weight\n",
      "160: deberta.encoder.layer.9.output.dense.bias\n",
      "161: deberta.encoder.layer.9.output.LayerNorm.weight\n",
      "162: deberta.encoder.layer.9.output.LayerNorm.bias\n",
      "163: deberta.encoder.layer.10.attention.self.query_proj.weight\n",
      "164: deberta.encoder.layer.10.attention.self.query_proj.bias\n",
      "165: deberta.encoder.layer.10.attention.self.key_proj.weight\n",
      "166: deberta.encoder.layer.10.attention.self.key_proj.bias\n",
      "167: deberta.encoder.layer.10.attention.self.value_proj.weight\n",
      "168: deberta.encoder.layer.10.attention.self.value_proj.bias\n",
      "169: deberta.encoder.layer.10.attention.output.dense.weight\n",
      "170: deberta.encoder.layer.10.attention.output.dense.bias\n",
      "171: deberta.encoder.layer.10.attention.output.LayerNorm.weight\n",
      "172: deberta.encoder.layer.10.attention.output.LayerNorm.bias\n",
      "173: deberta.encoder.layer.10.intermediate.dense.weight\n",
      "174: deberta.encoder.layer.10.intermediate.dense.bias\n",
      "175: deberta.encoder.layer.10.output.dense.weight\n",
      "176: deberta.encoder.layer.10.output.dense.bias\n",
      "177: deberta.encoder.layer.10.output.LayerNorm.weight\n",
      "178: deberta.encoder.layer.10.output.LayerNorm.bias\n",
      "179: deberta.encoder.layer.11.attention.self.query_proj.weight\n",
      "180: deberta.encoder.layer.11.attention.self.query_proj.bias\n",
      "181: deberta.encoder.layer.11.attention.self.key_proj.weight\n",
      "182: deberta.encoder.layer.11.attention.self.key_proj.bias\n",
      "183: deberta.encoder.layer.11.attention.self.value_proj.weight\n",
      "184: deberta.encoder.layer.11.attention.self.value_proj.bias\n",
      "185: deberta.encoder.layer.11.attention.output.dense.weight\n",
      "186: deberta.encoder.layer.11.attention.output.dense.bias\n",
      "187: deberta.encoder.layer.11.attention.output.LayerNorm.weight\n",
      "188: deberta.encoder.layer.11.attention.output.LayerNorm.bias\n",
      "189: deberta.encoder.layer.11.intermediate.dense.weight\n",
      "190: deberta.encoder.layer.11.intermediate.dense.bias\n",
      "191: deberta.encoder.layer.11.output.dense.weight\n",
      "192: deberta.encoder.layer.11.output.dense.bias\n",
      "193: deberta.encoder.layer.11.output.LayerNorm.weight\n",
      "194: deberta.encoder.layer.11.output.LayerNorm.bias\n",
      "195: deberta.encoder.rel_embeddings.weight\n",
      "196: deberta.encoder.LayerNorm.weight\n",
      "197: deberta.encoder.LayerNorm.bias\n",
      "198: pooler.dense.weight\n",
      "199: pooler.dense.bias\n",
      "200: classifier.weight\n",
      "201: classifier.bias\n"
     ]
    }
   ],
   "source": [
    "BASE_MODEL: DebertaV2PreTrainedModel = DebertaV2ForSequenceClassification.from_pretrained(\"microsoft/deberta-v3-xsmall\")\n",
    "\n",
    "for index, (parameter_name, parameter) in enumerate(BASE_MODEL.named_parameters()):\n",
    "    print(f\"{index}: {parameter_name}\")"
   ]
  },
  {
   "cell_type": "markdown",
   "metadata": {},
   "source": [
    "The base model has an embedding layer - which we can group it as embeddings.\n",
    "Note that by itself the embeddings group are not iterable and so it is just\n",
    "right to treat it as an independent group. From research papers, the embedding'\n",
    "group is notoriously known to be difficult to tune the initial weights, but we\n",
    "keep that for another session to pry into."
   ]
  },
  {
   "cell_type": "code",
   "execution_count": 3,
   "metadata": {},
   "outputs": [
    {
     "data": {
      "text/html": [
       "<pre style=\"white-space:pre;overflow-x:auto;line-height:normal;font-family:Menlo,'DejaVu Sans Mono',consolas,'Courier New',monospace\"><span style=\"color: #800080; text-decoration-color: #800080; font-weight: bold\">DebertaV2Embeddings</span><span style=\"font-weight: bold\">(</span>\n",
       "<span style=\"color: #7fbf7f; text-decoration-color: #7fbf7f\">  </span><span style=\"font-weight: bold\">(</span>word_embeddings<span style=\"font-weight: bold\">)</span>: <span style=\"color: #800080; text-decoration-color: #800080; font-weight: bold\">Embedding</span><span style=\"font-weight: bold\">(</span><span style=\"color: #008080; text-decoration-color: #008080; font-weight: bold\">128100</span>, <span style=\"color: #008080; text-decoration-color: #008080; font-weight: bold\">384</span>, <span style=\"color: #808000; text-decoration-color: #808000\">padding_idx</span>=<span style=\"color: #008080; text-decoration-color: #008080; font-weight: bold\">0</span><span style=\"font-weight: bold\">)</span>\n",
       "<span style=\"color: #7fbf7f; text-decoration-color: #7fbf7f\">  </span><span style=\"font-weight: bold\">(</span>LayerNorm<span style=\"font-weight: bold\">)</span>: <span style=\"color: #800080; text-decoration-color: #800080; font-weight: bold\">LayerNorm</span><span style=\"font-weight: bold\">((</span><span style=\"color: #008080; text-decoration-color: #008080; font-weight: bold\">384</span>,<span style=\"font-weight: bold\">)</span>, <span style=\"color: #808000; text-decoration-color: #808000\">eps</span>=<span style=\"color: #008080; text-decoration-color: #008080; font-weight: bold\">1e-07</span>, <span style=\"color: #808000; text-decoration-color: #808000\">elementwise_affine</span>=<span style=\"color: #00ff00; text-decoration-color: #00ff00; font-style: italic\">True</span><span style=\"font-weight: bold\">)</span>\n",
       "<span style=\"color: #7fbf7f; text-decoration-color: #7fbf7f\">  </span><span style=\"font-weight: bold\">(</span>dropout<span style=\"font-weight: bold\">)</span>: <span style=\"color: #800080; text-decoration-color: #800080; font-weight: bold\">StableDropout</span><span style=\"font-weight: bold\">()</span>\n",
       "<span style=\"font-weight: bold\">)</span>\n",
       "</pre>\n"
      ],
      "text/plain": [
       "\u001b[1;35mDebertaV2Embeddings\u001b[0m\u001b[1m(\u001b[0m\n",
       "\u001b[2;32m  \u001b[0m\u001b[1m(\u001b[0mword_embeddings\u001b[1m)\u001b[0m: \u001b[1;35mEmbedding\u001b[0m\u001b[1m(\u001b[0m\u001b[1;36m128100\u001b[0m, \u001b[1;36m384\u001b[0m, \u001b[33mpadding_idx\u001b[0m=\u001b[1;36m0\u001b[0m\u001b[1m)\u001b[0m\n",
       "\u001b[2;32m  \u001b[0m\u001b[1m(\u001b[0mLayerNorm\u001b[1m)\u001b[0m: \u001b[1;35mLayerNorm\u001b[0m\u001b[1m(\u001b[0m\u001b[1m(\u001b[0m\u001b[1;36m384\u001b[0m,\u001b[1m)\u001b[0m, \u001b[33meps\u001b[0m=\u001b[1;36m1e\u001b[0m\u001b[1;36m-07\u001b[0m, \u001b[33melementwise_affine\u001b[0m=\u001b[3;92mTrue\u001b[0m\u001b[1m)\u001b[0m\n",
       "\u001b[2;32m  \u001b[0m\u001b[1m(\u001b[0mdropout\u001b[1m)\u001b[0m: \u001b[1;35mStableDropout\u001b[0m\u001b[1m(\u001b[0m\u001b[1m)\u001b[0m\n",
       "\u001b[1m)\u001b[0m\n"
      ]
     },
     "metadata": {},
     "output_type": "display_data"
    },
    {
     "name": "stdout",
     "output_type": "stream",
     "text": [
      "dict_keys(['word_embeddings.weight'])\n",
      "dict_keys(['LayerNorm.weight'])\n",
      "dict_keys(['LayerNorm.bias'])\n"
     ]
    }
   ],
   "source": [
    "assert isinstance(BASE_MODEL, DebertaV2ForSequenceClassification)\n",
    "embeddings_group = BASE_MODEL.deberta.embeddings\n",
    "embeddings_named_parameters = get_named_parameters(embeddings_group)\n",
    "\n",
    "pprint(embeddings_group)\n",
    "for module in embeddings_named_parameters:\n",
    "    print(module.keys())\n"
   ]
  },
  {
   "cell_type": "markdown",
   "metadata": {},
   "source": [
    "The backbone of the base model is called the `encoder` and it is a stack of\n",
    "transformer layers. The transformer layers are grouped as `encoder` group. The\n",
    "`encoder` group is iterable so we can treat each \"stack/block\" of encoder block\n",
    "as a \"layer\" and note the notation abuse here, by layer in encoder backbone we\n",
    "actually mean the encoder block."
   ]
  },
  {
   "cell_type": "code",
   "execution_count": 4,
   "metadata": {},
   "outputs": [
    {
     "data": {
      "text/html": [
       "<pre style=\"white-space:pre;overflow-x:auto;line-height:normal;font-family:Menlo,'DejaVu Sans Mono',consolas,'Courier New',monospace\"><span style=\"color: #800080; text-decoration-color: #800080; font-weight: bold\">DebertaV2Encoder</span><span style=\"font-weight: bold\">(</span>\n",
       "<span style=\"color: #7fbf7f; text-decoration-color: #7fbf7f\">  </span><span style=\"font-weight: bold\">(</span>layer<span style=\"font-weight: bold\">)</span>: <span style=\"color: #800080; text-decoration-color: #800080; font-weight: bold\">ModuleList</span><span style=\"font-weight: bold\">(</span>\n",
       "<span style=\"color: #7fbf7f; text-decoration-color: #7fbf7f\">│   </span><span style=\"font-weight: bold\">(</span><span style=\"color: #008080; text-decoration-color: #008080; font-weight: bold\">0</span>-<span style=\"color: #008080; text-decoration-color: #008080; font-weight: bold\">11</span><span style=\"font-weight: bold\">)</span>: <span style=\"color: #008080; text-decoration-color: #008080; font-weight: bold\">12</span> x <span style=\"color: #800080; text-decoration-color: #800080; font-weight: bold\">DebertaV2Layer</span><span style=\"font-weight: bold\">(</span>\n",
       "<span style=\"color: #7fbf7f; text-decoration-color: #7fbf7f\">│     </span><span style=\"font-weight: bold\">(</span>attention<span style=\"font-weight: bold\">)</span>: <span style=\"color: #800080; text-decoration-color: #800080; font-weight: bold\">DebertaV2Attention</span><span style=\"font-weight: bold\">(</span>\n",
       "<span style=\"color: #7fbf7f; text-decoration-color: #7fbf7f\">│   │   </span><span style=\"font-weight: bold\">(</span>self<span style=\"font-weight: bold\">)</span>: <span style=\"color: #800080; text-decoration-color: #800080; font-weight: bold\">DisentangledSelfAttention</span><span style=\"font-weight: bold\">(</span>\n",
       "<span style=\"color: #7fbf7f; text-decoration-color: #7fbf7f\">│   │     </span><span style=\"font-weight: bold\">(</span>query_proj<span style=\"font-weight: bold\">)</span>: <span style=\"color: #800080; text-decoration-color: #800080; font-weight: bold\">Linear</span><span style=\"font-weight: bold\">(</span><span style=\"color: #808000; text-decoration-color: #808000\">in_features</span>=<span style=\"color: #008080; text-decoration-color: #008080; font-weight: bold\">384</span>, <span style=\"color: #808000; text-decoration-color: #808000\">out_features</span>=<span style=\"color: #008080; text-decoration-color: #008080; font-weight: bold\">384</span>, <span style=\"color: #808000; text-decoration-color: #808000\">bias</span>=<span style=\"color: #00ff00; text-decoration-color: #00ff00; font-style: italic\">True</span><span style=\"font-weight: bold\">)</span>\n",
       "<span style=\"color: #7fbf7f; text-decoration-color: #7fbf7f\">│   │     </span><span style=\"font-weight: bold\">(</span>key_proj<span style=\"font-weight: bold\">)</span>: <span style=\"color: #800080; text-decoration-color: #800080; font-weight: bold\">Linear</span><span style=\"font-weight: bold\">(</span><span style=\"color: #808000; text-decoration-color: #808000\">in_features</span>=<span style=\"color: #008080; text-decoration-color: #008080; font-weight: bold\">384</span>, <span style=\"color: #808000; text-decoration-color: #808000\">out_features</span>=<span style=\"color: #008080; text-decoration-color: #008080; font-weight: bold\">384</span>, <span style=\"color: #808000; text-decoration-color: #808000\">bias</span>=<span style=\"color: #00ff00; text-decoration-color: #00ff00; font-style: italic\">True</span><span style=\"font-weight: bold\">)</span>\n",
       "<span style=\"color: #7fbf7f; text-decoration-color: #7fbf7f\">│   │     </span><span style=\"font-weight: bold\">(</span>value_proj<span style=\"font-weight: bold\">)</span>: <span style=\"color: #800080; text-decoration-color: #800080; font-weight: bold\">Linear</span><span style=\"font-weight: bold\">(</span><span style=\"color: #808000; text-decoration-color: #808000\">in_features</span>=<span style=\"color: #008080; text-decoration-color: #008080; font-weight: bold\">384</span>, <span style=\"color: #808000; text-decoration-color: #808000\">out_features</span>=<span style=\"color: #008080; text-decoration-color: #008080; font-weight: bold\">384</span>, <span style=\"color: #808000; text-decoration-color: #808000\">bias</span>=<span style=\"color: #00ff00; text-decoration-color: #00ff00; font-style: italic\">True</span><span style=\"font-weight: bold\">)</span>\n",
       "<span style=\"color: #7fbf7f; text-decoration-color: #7fbf7f\">│   │     </span><span style=\"font-weight: bold\">(</span>pos_dropout<span style=\"font-weight: bold\">)</span>: <span style=\"color: #800080; text-decoration-color: #800080; font-weight: bold\">StableDropout</span><span style=\"font-weight: bold\">()</span>\n",
       "<span style=\"color: #7fbf7f; text-decoration-color: #7fbf7f\">│   │     </span><span style=\"font-weight: bold\">(</span>dropout<span style=\"font-weight: bold\">)</span>: <span style=\"color: #800080; text-decoration-color: #800080; font-weight: bold\">StableDropout</span><span style=\"font-weight: bold\">()</span>\n",
       "<span style=\"color: #7fbf7f; text-decoration-color: #7fbf7f\">│   │   </span><span style=\"font-weight: bold\">)</span>\n",
       "<span style=\"color: #7fbf7f; text-decoration-color: #7fbf7f\">│   │   </span><span style=\"font-weight: bold\">(</span>output<span style=\"font-weight: bold\">)</span>: <span style=\"color: #800080; text-decoration-color: #800080; font-weight: bold\">DebertaV2SelfOutput</span><span style=\"font-weight: bold\">(</span>\n",
       "<span style=\"color: #7fbf7f; text-decoration-color: #7fbf7f\">│   │     </span><span style=\"font-weight: bold\">(</span>dense<span style=\"font-weight: bold\">)</span>: <span style=\"color: #800080; text-decoration-color: #800080; font-weight: bold\">Linear</span><span style=\"font-weight: bold\">(</span><span style=\"color: #808000; text-decoration-color: #808000\">in_features</span>=<span style=\"color: #008080; text-decoration-color: #008080; font-weight: bold\">384</span>, <span style=\"color: #808000; text-decoration-color: #808000\">out_features</span>=<span style=\"color: #008080; text-decoration-color: #008080; font-weight: bold\">384</span>, <span style=\"color: #808000; text-decoration-color: #808000\">bias</span>=<span style=\"color: #00ff00; text-decoration-color: #00ff00; font-style: italic\">True</span><span style=\"font-weight: bold\">)</span>\n",
       "<span style=\"color: #7fbf7f; text-decoration-color: #7fbf7f\">│   │     </span><span style=\"font-weight: bold\">(</span>LayerNorm<span style=\"font-weight: bold\">)</span>: <span style=\"color: #800080; text-decoration-color: #800080; font-weight: bold\">LayerNorm</span><span style=\"font-weight: bold\">((</span><span style=\"color: #008080; text-decoration-color: #008080; font-weight: bold\">384</span>,<span style=\"font-weight: bold\">)</span>, <span style=\"color: #808000; text-decoration-color: #808000\">eps</span>=<span style=\"color: #008080; text-decoration-color: #008080; font-weight: bold\">1e-07</span>, <span style=\"color: #808000; text-decoration-color: #808000\">elementwise_affine</span>=<span style=\"color: #00ff00; text-decoration-color: #00ff00; font-style: italic\">True</span><span style=\"font-weight: bold\">)</span>\n",
       "<span style=\"color: #7fbf7f; text-decoration-color: #7fbf7f\">│   │     </span><span style=\"font-weight: bold\">(</span>dropout<span style=\"font-weight: bold\">)</span>: <span style=\"color: #800080; text-decoration-color: #800080; font-weight: bold\">StableDropout</span><span style=\"font-weight: bold\">()</span>\n",
       "<span style=\"color: #7fbf7f; text-decoration-color: #7fbf7f\">│   │   </span><span style=\"font-weight: bold\">)</span>\n",
       "<span style=\"color: #7fbf7f; text-decoration-color: #7fbf7f\">│     </span><span style=\"font-weight: bold\">)</span>\n",
       "<span style=\"color: #7fbf7f; text-decoration-color: #7fbf7f\">│     </span><span style=\"font-weight: bold\">(</span>intermediate<span style=\"font-weight: bold\">)</span>: <span style=\"color: #800080; text-decoration-color: #800080; font-weight: bold\">DebertaV2Intermediate</span><span style=\"font-weight: bold\">(</span>\n",
       "<span style=\"color: #7fbf7f; text-decoration-color: #7fbf7f\">│   │   </span><span style=\"font-weight: bold\">(</span>dense<span style=\"font-weight: bold\">)</span>: <span style=\"color: #800080; text-decoration-color: #800080; font-weight: bold\">Linear</span><span style=\"font-weight: bold\">(</span><span style=\"color: #808000; text-decoration-color: #808000\">in_features</span>=<span style=\"color: #008080; text-decoration-color: #008080; font-weight: bold\">384</span>, <span style=\"color: #808000; text-decoration-color: #808000\">out_features</span>=<span style=\"color: #008080; text-decoration-color: #008080; font-weight: bold\">1536</span>, <span style=\"color: #808000; text-decoration-color: #808000\">bias</span>=<span style=\"color: #00ff00; text-decoration-color: #00ff00; font-style: italic\">True</span><span style=\"font-weight: bold\">)</span>\n",
       "<span style=\"color: #7fbf7f; text-decoration-color: #7fbf7f\">│   │   </span><span style=\"font-weight: bold\">(</span>intermediate_act_fn<span style=\"font-weight: bold\">)</span>: <span style=\"color: #800080; text-decoration-color: #800080; font-weight: bold\">GELUActivation</span><span style=\"font-weight: bold\">()</span>\n",
       "<span style=\"color: #7fbf7f; text-decoration-color: #7fbf7f\">│     </span><span style=\"font-weight: bold\">)</span>\n",
       "<span style=\"color: #7fbf7f; text-decoration-color: #7fbf7f\">│     </span><span style=\"font-weight: bold\">(</span>output<span style=\"font-weight: bold\">)</span>: <span style=\"color: #800080; text-decoration-color: #800080; font-weight: bold\">DebertaV2Output</span><span style=\"font-weight: bold\">(</span>\n",
       "<span style=\"color: #7fbf7f; text-decoration-color: #7fbf7f\">│   │   </span><span style=\"font-weight: bold\">(</span>dense<span style=\"font-weight: bold\">)</span>: <span style=\"color: #800080; text-decoration-color: #800080; font-weight: bold\">Linear</span><span style=\"font-weight: bold\">(</span><span style=\"color: #808000; text-decoration-color: #808000\">in_features</span>=<span style=\"color: #008080; text-decoration-color: #008080; font-weight: bold\">1536</span>, <span style=\"color: #808000; text-decoration-color: #808000\">out_features</span>=<span style=\"color: #008080; text-decoration-color: #008080; font-weight: bold\">384</span>, <span style=\"color: #808000; text-decoration-color: #808000\">bias</span>=<span style=\"color: #00ff00; text-decoration-color: #00ff00; font-style: italic\">True</span><span style=\"font-weight: bold\">)</span>\n",
       "<span style=\"color: #7fbf7f; text-decoration-color: #7fbf7f\">│   │   </span><span style=\"font-weight: bold\">(</span>LayerNorm<span style=\"font-weight: bold\">)</span>: <span style=\"color: #800080; text-decoration-color: #800080; font-weight: bold\">LayerNorm</span><span style=\"font-weight: bold\">((</span><span style=\"color: #008080; text-decoration-color: #008080; font-weight: bold\">384</span>,<span style=\"font-weight: bold\">)</span>, <span style=\"color: #808000; text-decoration-color: #808000\">eps</span>=<span style=\"color: #008080; text-decoration-color: #008080; font-weight: bold\">1e-07</span>, <span style=\"color: #808000; text-decoration-color: #808000\">elementwise_affine</span>=<span style=\"color: #00ff00; text-decoration-color: #00ff00; font-style: italic\">True</span><span style=\"font-weight: bold\">)</span>\n",
       "<span style=\"color: #7fbf7f; text-decoration-color: #7fbf7f\">│   │   </span><span style=\"font-weight: bold\">(</span>dropout<span style=\"font-weight: bold\">)</span>: <span style=\"color: #800080; text-decoration-color: #800080; font-weight: bold\">StableDropout</span><span style=\"font-weight: bold\">()</span>\n",
       "<span style=\"color: #7fbf7f; text-decoration-color: #7fbf7f\">│     </span><span style=\"font-weight: bold\">)</span>\n",
       "<span style=\"color: #7fbf7f; text-decoration-color: #7fbf7f\">│   </span><span style=\"font-weight: bold\">)</span>\n",
       "<span style=\"color: #7fbf7f; text-decoration-color: #7fbf7f\">  </span><span style=\"font-weight: bold\">)</span>\n",
       "<span style=\"color: #7fbf7f; text-decoration-color: #7fbf7f\">  </span><span style=\"font-weight: bold\">(</span>rel_embeddings<span style=\"font-weight: bold\">)</span>: <span style=\"color: #800080; text-decoration-color: #800080; font-weight: bold\">Embedding</span><span style=\"font-weight: bold\">(</span><span style=\"color: #008080; text-decoration-color: #008080; font-weight: bold\">512</span>, <span style=\"color: #008080; text-decoration-color: #008080; font-weight: bold\">384</span><span style=\"font-weight: bold\">)</span>\n",
       "<span style=\"color: #7fbf7f; text-decoration-color: #7fbf7f\">  </span><span style=\"font-weight: bold\">(</span>LayerNorm<span style=\"font-weight: bold\">)</span>: <span style=\"color: #800080; text-decoration-color: #800080; font-weight: bold\">LayerNorm</span><span style=\"font-weight: bold\">((</span><span style=\"color: #008080; text-decoration-color: #008080; font-weight: bold\">384</span>,<span style=\"font-weight: bold\">)</span>, <span style=\"color: #808000; text-decoration-color: #808000\">eps</span>=<span style=\"color: #008080; text-decoration-color: #008080; font-weight: bold\">1e-07</span>, <span style=\"color: #808000; text-decoration-color: #808000\">elementwise_affine</span>=<span style=\"color: #00ff00; text-decoration-color: #00ff00; font-style: italic\">True</span><span style=\"font-weight: bold\">)</span>\n",
       "<span style=\"font-weight: bold\">)</span>\n",
       "</pre>\n"
      ],
      "text/plain": [
       "\u001b[1;35mDebertaV2Encoder\u001b[0m\u001b[1m(\u001b[0m\n",
       "\u001b[2;32m  \u001b[0m\u001b[1m(\u001b[0mlayer\u001b[1m)\u001b[0m: \u001b[1;35mModuleList\u001b[0m\u001b[1m(\u001b[0m\n",
       "\u001b[2;32m│   \u001b[0m\u001b[1m(\u001b[0m\u001b[1;36m0\u001b[0m-\u001b[1;36m11\u001b[0m\u001b[1m)\u001b[0m: \u001b[1;36m12\u001b[0m x \u001b[1;35mDebertaV2Layer\u001b[0m\u001b[1m(\u001b[0m\n",
       "\u001b[2;32m│     \u001b[0m\u001b[1m(\u001b[0mattention\u001b[1m)\u001b[0m: \u001b[1;35mDebertaV2Attention\u001b[0m\u001b[1m(\u001b[0m\n",
       "\u001b[2;32m│   │   \u001b[0m\u001b[1m(\u001b[0mself\u001b[1m)\u001b[0m: \u001b[1;35mDisentangledSelfAttention\u001b[0m\u001b[1m(\u001b[0m\n",
       "\u001b[2;32m│   │     \u001b[0m\u001b[1m(\u001b[0mquery_proj\u001b[1m)\u001b[0m: \u001b[1;35mLinear\u001b[0m\u001b[1m(\u001b[0m\u001b[33min_features\u001b[0m=\u001b[1;36m384\u001b[0m, \u001b[33mout_features\u001b[0m=\u001b[1;36m384\u001b[0m, \u001b[33mbias\u001b[0m=\u001b[3;92mTrue\u001b[0m\u001b[1m)\u001b[0m\n",
       "\u001b[2;32m│   │     \u001b[0m\u001b[1m(\u001b[0mkey_proj\u001b[1m)\u001b[0m: \u001b[1;35mLinear\u001b[0m\u001b[1m(\u001b[0m\u001b[33min_features\u001b[0m=\u001b[1;36m384\u001b[0m, \u001b[33mout_features\u001b[0m=\u001b[1;36m384\u001b[0m, \u001b[33mbias\u001b[0m=\u001b[3;92mTrue\u001b[0m\u001b[1m)\u001b[0m\n",
       "\u001b[2;32m│   │     \u001b[0m\u001b[1m(\u001b[0mvalue_proj\u001b[1m)\u001b[0m: \u001b[1;35mLinear\u001b[0m\u001b[1m(\u001b[0m\u001b[33min_features\u001b[0m=\u001b[1;36m384\u001b[0m, \u001b[33mout_features\u001b[0m=\u001b[1;36m384\u001b[0m, \u001b[33mbias\u001b[0m=\u001b[3;92mTrue\u001b[0m\u001b[1m)\u001b[0m\n",
       "\u001b[2;32m│   │     \u001b[0m\u001b[1m(\u001b[0mpos_dropout\u001b[1m)\u001b[0m: \u001b[1;35mStableDropout\u001b[0m\u001b[1m(\u001b[0m\u001b[1m)\u001b[0m\n",
       "\u001b[2;32m│   │     \u001b[0m\u001b[1m(\u001b[0mdropout\u001b[1m)\u001b[0m: \u001b[1;35mStableDropout\u001b[0m\u001b[1m(\u001b[0m\u001b[1m)\u001b[0m\n",
       "\u001b[2;32m│   │   \u001b[0m\u001b[1m)\u001b[0m\n",
       "\u001b[2;32m│   │   \u001b[0m\u001b[1m(\u001b[0moutput\u001b[1m)\u001b[0m: \u001b[1;35mDebertaV2SelfOutput\u001b[0m\u001b[1m(\u001b[0m\n",
       "\u001b[2;32m│   │     \u001b[0m\u001b[1m(\u001b[0mdense\u001b[1m)\u001b[0m: \u001b[1;35mLinear\u001b[0m\u001b[1m(\u001b[0m\u001b[33min_features\u001b[0m=\u001b[1;36m384\u001b[0m, \u001b[33mout_features\u001b[0m=\u001b[1;36m384\u001b[0m, \u001b[33mbias\u001b[0m=\u001b[3;92mTrue\u001b[0m\u001b[1m)\u001b[0m\n",
       "\u001b[2;32m│   │     \u001b[0m\u001b[1m(\u001b[0mLayerNorm\u001b[1m)\u001b[0m: \u001b[1;35mLayerNorm\u001b[0m\u001b[1m(\u001b[0m\u001b[1m(\u001b[0m\u001b[1;36m384\u001b[0m,\u001b[1m)\u001b[0m, \u001b[33meps\u001b[0m=\u001b[1;36m1e\u001b[0m\u001b[1;36m-07\u001b[0m, \u001b[33melementwise_affine\u001b[0m=\u001b[3;92mTrue\u001b[0m\u001b[1m)\u001b[0m\n",
       "\u001b[2;32m│   │     \u001b[0m\u001b[1m(\u001b[0mdropout\u001b[1m)\u001b[0m: \u001b[1;35mStableDropout\u001b[0m\u001b[1m(\u001b[0m\u001b[1m)\u001b[0m\n",
       "\u001b[2;32m│   │   \u001b[0m\u001b[1m)\u001b[0m\n",
       "\u001b[2;32m│     \u001b[0m\u001b[1m)\u001b[0m\n",
       "\u001b[2;32m│     \u001b[0m\u001b[1m(\u001b[0mintermediate\u001b[1m)\u001b[0m: \u001b[1;35mDebertaV2Intermediate\u001b[0m\u001b[1m(\u001b[0m\n",
       "\u001b[2;32m│   │   \u001b[0m\u001b[1m(\u001b[0mdense\u001b[1m)\u001b[0m: \u001b[1;35mLinear\u001b[0m\u001b[1m(\u001b[0m\u001b[33min_features\u001b[0m=\u001b[1;36m384\u001b[0m, \u001b[33mout_features\u001b[0m=\u001b[1;36m1536\u001b[0m, \u001b[33mbias\u001b[0m=\u001b[3;92mTrue\u001b[0m\u001b[1m)\u001b[0m\n",
       "\u001b[2;32m│   │   \u001b[0m\u001b[1m(\u001b[0mintermediate_act_fn\u001b[1m)\u001b[0m: \u001b[1;35mGELUActivation\u001b[0m\u001b[1m(\u001b[0m\u001b[1m)\u001b[0m\n",
       "\u001b[2;32m│     \u001b[0m\u001b[1m)\u001b[0m\n",
       "\u001b[2;32m│     \u001b[0m\u001b[1m(\u001b[0moutput\u001b[1m)\u001b[0m: \u001b[1;35mDebertaV2Output\u001b[0m\u001b[1m(\u001b[0m\n",
       "\u001b[2;32m│   │   \u001b[0m\u001b[1m(\u001b[0mdense\u001b[1m)\u001b[0m: \u001b[1;35mLinear\u001b[0m\u001b[1m(\u001b[0m\u001b[33min_features\u001b[0m=\u001b[1;36m1536\u001b[0m, \u001b[33mout_features\u001b[0m=\u001b[1;36m384\u001b[0m, \u001b[33mbias\u001b[0m=\u001b[3;92mTrue\u001b[0m\u001b[1m)\u001b[0m\n",
       "\u001b[2;32m│   │   \u001b[0m\u001b[1m(\u001b[0mLayerNorm\u001b[1m)\u001b[0m: \u001b[1;35mLayerNorm\u001b[0m\u001b[1m(\u001b[0m\u001b[1m(\u001b[0m\u001b[1;36m384\u001b[0m,\u001b[1m)\u001b[0m, \u001b[33meps\u001b[0m=\u001b[1;36m1e\u001b[0m\u001b[1;36m-07\u001b[0m, \u001b[33melementwise_affine\u001b[0m=\u001b[3;92mTrue\u001b[0m\u001b[1m)\u001b[0m\n",
       "\u001b[2;32m│   │   \u001b[0m\u001b[1m(\u001b[0mdropout\u001b[1m)\u001b[0m: \u001b[1;35mStableDropout\u001b[0m\u001b[1m(\u001b[0m\u001b[1m)\u001b[0m\n",
       "\u001b[2;32m│     \u001b[0m\u001b[1m)\u001b[0m\n",
       "\u001b[2;32m│   \u001b[0m\u001b[1m)\u001b[0m\n",
       "\u001b[2;32m  \u001b[0m\u001b[1m)\u001b[0m\n",
       "\u001b[2;32m  \u001b[0m\u001b[1m(\u001b[0mrel_embeddings\u001b[1m)\u001b[0m: \u001b[1;35mEmbedding\u001b[0m\u001b[1m(\u001b[0m\u001b[1;36m512\u001b[0m, \u001b[1;36m384\u001b[0m\u001b[1m)\u001b[0m\n",
       "\u001b[2;32m  \u001b[0m\u001b[1m(\u001b[0mLayerNorm\u001b[1m)\u001b[0m: \u001b[1;35mLayerNorm\u001b[0m\u001b[1m(\u001b[0m\u001b[1m(\u001b[0m\u001b[1;36m384\u001b[0m,\u001b[1m)\u001b[0m, \u001b[33meps\u001b[0m=\u001b[1;36m1e\u001b[0m\u001b[1;36m-07\u001b[0m, \u001b[33melementwise_affine\u001b[0m=\u001b[3;92mTrue\u001b[0m\u001b[1m)\u001b[0m\n",
       "\u001b[1m)\u001b[0m\n"
      ]
     },
     "metadata": {},
     "output_type": "display_data"
    },
    {
     "data": {
      "text/html": [
       "<pre style=\"white-space:pre;overflow-x:auto;line-height:normal;font-family:Menlo,'DejaVu Sans Mono',consolas,'Courier New',monospace\"><span style=\"color: #800080; text-decoration-color: #800080; font-weight: bold\">ModuleList</span><span style=\"font-weight: bold\">(</span>\n",
       "<span style=\"color: #7fbf7f; text-decoration-color: #7fbf7f\">  </span><span style=\"font-weight: bold\">(</span><span style=\"color: #008080; text-decoration-color: #008080; font-weight: bold\">0</span>-<span style=\"color: #008080; text-decoration-color: #008080; font-weight: bold\">11</span><span style=\"font-weight: bold\">)</span>: <span style=\"color: #008080; text-decoration-color: #008080; font-weight: bold\">12</span> x <span style=\"color: #800080; text-decoration-color: #800080; font-weight: bold\">DebertaV2Layer</span><span style=\"font-weight: bold\">(</span>\n",
       "<span style=\"color: #7fbf7f; text-decoration-color: #7fbf7f\">│   </span><span style=\"font-weight: bold\">(</span>attention<span style=\"font-weight: bold\">)</span>: <span style=\"color: #800080; text-decoration-color: #800080; font-weight: bold\">DebertaV2Attention</span><span style=\"font-weight: bold\">(</span>\n",
       "<span style=\"color: #7fbf7f; text-decoration-color: #7fbf7f\">│     </span><span style=\"font-weight: bold\">(</span>self<span style=\"font-weight: bold\">)</span>: <span style=\"color: #800080; text-decoration-color: #800080; font-weight: bold\">DisentangledSelfAttention</span><span style=\"font-weight: bold\">(</span>\n",
       "<span style=\"color: #7fbf7f; text-decoration-color: #7fbf7f\">│   │   </span><span style=\"font-weight: bold\">(</span>query_proj<span style=\"font-weight: bold\">)</span>: <span style=\"color: #800080; text-decoration-color: #800080; font-weight: bold\">Linear</span><span style=\"font-weight: bold\">(</span><span style=\"color: #808000; text-decoration-color: #808000\">in_features</span>=<span style=\"color: #008080; text-decoration-color: #008080; font-weight: bold\">384</span>, <span style=\"color: #808000; text-decoration-color: #808000\">out_features</span>=<span style=\"color: #008080; text-decoration-color: #008080; font-weight: bold\">384</span>, <span style=\"color: #808000; text-decoration-color: #808000\">bias</span>=<span style=\"color: #00ff00; text-decoration-color: #00ff00; font-style: italic\">True</span><span style=\"font-weight: bold\">)</span>\n",
       "<span style=\"color: #7fbf7f; text-decoration-color: #7fbf7f\">│   │   </span><span style=\"font-weight: bold\">(</span>key_proj<span style=\"font-weight: bold\">)</span>: <span style=\"color: #800080; text-decoration-color: #800080; font-weight: bold\">Linear</span><span style=\"font-weight: bold\">(</span><span style=\"color: #808000; text-decoration-color: #808000\">in_features</span>=<span style=\"color: #008080; text-decoration-color: #008080; font-weight: bold\">384</span>, <span style=\"color: #808000; text-decoration-color: #808000\">out_features</span>=<span style=\"color: #008080; text-decoration-color: #008080; font-weight: bold\">384</span>, <span style=\"color: #808000; text-decoration-color: #808000\">bias</span>=<span style=\"color: #00ff00; text-decoration-color: #00ff00; font-style: italic\">True</span><span style=\"font-weight: bold\">)</span>\n",
       "<span style=\"color: #7fbf7f; text-decoration-color: #7fbf7f\">│   │   </span><span style=\"font-weight: bold\">(</span>value_proj<span style=\"font-weight: bold\">)</span>: <span style=\"color: #800080; text-decoration-color: #800080; font-weight: bold\">Linear</span><span style=\"font-weight: bold\">(</span><span style=\"color: #808000; text-decoration-color: #808000\">in_features</span>=<span style=\"color: #008080; text-decoration-color: #008080; font-weight: bold\">384</span>, <span style=\"color: #808000; text-decoration-color: #808000\">out_features</span>=<span style=\"color: #008080; text-decoration-color: #008080; font-weight: bold\">384</span>, <span style=\"color: #808000; text-decoration-color: #808000\">bias</span>=<span style=\"color: #00ff00; text-decoration-color: #00ff00; font-style: italic\">True</span><span style=\"font-weight: bold\">)</span>\n",
       "<span style=\"color: #7fbf7f; text-decoration-color: #7fbf7f\">│   │   </span><span style=\"font-weight: bold\">(</span>pos_dropout<span style=\"font-weight: bold\">)</span>: <span style=\"color: #800080; text-decoration-color: #800080; font-weight: bold\">StableDropout</span><span style=\"font-weight: bold\">()</span>\n",
       "<span style=\"color: #7fbf7f; text-decoration-color: #7fbf7f\">│   │   </span><span style=\"font-weight: bold\">(</span>dropout<span style=\"font-weight: bold\">)</span>: <span style=\"color: #800080; text-decoration-color: #800080; font-weight: bold\">StableDropout</span><span style=\"font-weight: bold\">()</span>\n",
       "<span style=\"color: #7fbf7f; text-decoration-color: #7fbf7f\">│     </span><span style=\"font-weight: bold\">)</span>\n",
       "<span style=\"color: #7fbf7f; text-decoration-color: #7fbf7f\">│     </span><span style=\"font-weight: bold\">(</span>output<span style=\"font-weight: bold\">)</span>: <span style=\"color: #800080; text-decoration-color: #800080; font-weight: bold\">DebertaV2SelfOutput</span><span style=\"font-weight: bold\">(</span>\n",
       "<span style=\"color: #7fbf7f; text-decoration-color: #7fbf7f\">│   │   </span><span style=\"font-weight: bold\">(</span>dense<span style=\"font-weight: bold\">)</span>: <span style=\"color: #800080; text-decoration-color: #800080; font-weight: bold\">Linear</span><span style=\"font-weight: bold\">(</span><span style=\"color: #808000; text-decoration-color: #808000\">in_features</span>=<span style=\"color: #008080; text-decoration-color: #008080; font-weight: bold\">384</span>, <span style=\"color: #808000; text-decoration-color: #808000\">out_features</span>=<span style=\"color: #008080; text-decoration-color: #008080; font-weight: bold\">384</span>, <span style=\"color: #808000; text-decoration-color: #808000\">bias</span>=<span style=\"color: #00ff00; text-decoration-color: #00ff00; font-style: italic\">True</span><span style=\"font-weight: bold\">)</span>\n",
       "<span style=\"color: #7fbf7f; text-decoration-color: #7fbf7f\">│   │   </span><span style=\"font-weight: bold\">(</span>LayerNorm<span style=\"font-weight: bold\">)</span>: <span style=\"color: #800080; text-decoration-color: #800080; font-weight: bold\">LayerNorm</span><span style=\"font-weight: bold\">((</span><span style=\"color: #008080; text-decoration-color: #008080; font-weight: bold\">384</span>,<span style=\"font-weight: bold\">)</span>, <span style=\"color: #808000; text-decoration-color: #808000\">eps</span>=<span style=\"color: #008080; text-decoration-color: #008080; font-weight: bold\">1e-07</span>, <span style=\"color: #808000; text-decoration-color: #808000\">elementwise_affine</span>=<span style=\"color: #00ff00; text-decoration-color: #00ff00; font-style: italic\">True</span><span style=\"font-weight: bold\">)</span>\n",
       "<span style=\"color: #7fbf7f; text-decoration-color: #7fbf7f\">│   │   </span><span style=\"font-weight: bold\">(</span>dropout<span style=\"font-weight: bold\">)</span>: <span style=\"color: #800080; text-decoration-color: #800080; font-weight: bold\">StableDropout</span><span style=\"font-weight: bold\">()</span>\n",
       "<span style=\"color: #7fbf7f; text-decoration-color: #7fbf7f\">│     </span><span style=\"font-weight: bold\">)</span>\n",
       "<span style=\"color: #7fbf7f; text-decoration-color: #7fbf7f\">│   </span><span style=\"font-weight: bold\">)</span>\n",
       "<span style=\"color: #7fbf7f; text-decoration-color: #7fbf7f\">│   </span><span style=\"font-weight: bold\">(</span>intermediate<span style=\"font-weight: bold\">)</span>: <span style=\"color: #800080; text-decoration-color: #800080; font-weight: bold\">DebertaV2Intermediate</span><span style=\"font-weight: bold\">(</span>\n",
       "<span style=\"color: #7fbf7f; text-decoration-color: #7fbf7f\">│     </span><span style=\"font-weight: bold\">(</span>dense<span style=\"font-weight: bold\">)</span>: <span style=\"color: #800080; text-decoration-color: #800080; font-weight: bold\">Linear</span><span style=\"font-weight: bold\">(</span><span style=\"color: #808000; text-decoration-color: #808000\">in_features</span>=<span style=\"color: #008080; text-decoration-color: #008080; font-weight: bold\">384</span>, <span style=\"color: #808000; text-decoration-color: #808000\">out_features</span>=<span style=\"color: #008080; text-decoration-color: #008080; font-weight: bold\">1536</span>, <span style=\"color: #808000; text-decoration-color: #808000\">bias</span>=<span style=\"color: #00ff00; text-decoration-color: #00ff00; font-style: italic\">True</span><span style=\"font-weight: bold\">)</span>\n",
       "<span style=\"color: #7fbf7f; text-decoration-color: #7fbf7f\">│     </span><span style=\"font-weight: bold\">(</span>intermediate_act_fn<span style=\"font-weight: bold\">)</span>: <span style=\"color: #800080; text-decoration-color: #800080; font-weight: bold\">GELUActivation</span><span style=\"font-weight: bold\">()</span>\n",
       "<span style=\"color: #7fbf7f; text-decoration-color: #7fbf7f\">│   </span><span style=\"font-weight: bold\">)</span>\n",
       "<span style=\"color: #7fbf7f; text-decoration-color: #7fbf7f\">│   </span><span style=\"font-weight: bold\">(</span>output<span style=\"font-weight: bold\">)</span>: <span style=\"color: #800080; text-decoration-color: #800080; font-weight: bold\">DebertaV2Output</span><span style=\"font-weight: bold\">(</span>\n",
       "<span style=\"color: #7fbf7f; text-decoration-color: #7fbf7f\">│     </span><span style=\"font-weight: bold\">(</span>dense<span style=\"font-weight: bold\">)</span>: <span style=\"color: #800080; text-decoration-color: #800080; font-weight: bold\">Linear</span><span style=\"font-weight: bold\">(</span><span style=\"color: #808000; text-decoration-color: #808000\">in_features</span>=<span style=\"color: #008080; text-decoration-color: #008080; font-weight: bold\">1536</span>, <span style=\"color: #808000; text-decoration-color: #808000\">out_features</span>=<span style=\"color: #008080; text-decoration-color: #008080; font-weight: bold\">384</span>, <span style=\"color: #808000; text-decoration-color: #808000\">bias</span>=<span style=\"color: #00ff00; text-decoration-color: #00ff00; font-style: italic\">True</span><span style=\"font-weight: bold\">)</span>\n",
       "<span style=\"color: #7fbf7f; text-decoration-color: #7fbf7f\">│     </span><span style=\"font-weight: bold\">(</span>LayerNorm<span style=\"font-weight: bold\">)</span>: <span style=\"color: #800080; text-decoration-color: #800080; font-weight: bold\">LayerNorm</span><span style=\"font-weight: bold\">((</span><span style=\"color: #008080; text-decoration-color: #008080; font-weight: bold\">384</span>,<span style=\"font-weight: bold\">)</span>, <span style=\"color: #808000; text-decoration-color: #808000\">eps</span>=<span style=\"color: #008080; text-decoration-color: #008080; font-weight: bold\">1e-07</span>, <span style=\"color: #808000; text-decoration-color: #808000\">elementwise_affine</span>=<span style=\"color: #00ff00; text-decoration-color: #00ff00; font-style: italic\">True</span><span style=\"font-weight: bold\">)</span>\n",
       "<span style=\"color: #7fbf7f; text-decoration-color: #7fbf7f\">│     </span><span style=\"font-weight: bold\">(</span>dropout<span style=\"font-weight: bold\">)</span>: <span style=\"color: #800080; text-decoration-color: #800080; font-weight: bold\">StableDropout</span><span style=\"font-weight: bold\">()</span>\n",
       "<span style=\"color: #7fbf7f; text-decoration-color: #7fbf7f\">│   </span><span style=\"font-weight: bold\">)</span>\n",
       "<span style=\"color: #7fbf7f; text-decoration-color: #7fbf7f\">  </span><span style=\"font-weight: bold\">)</span>\n",
       "<span style=\"font-weight: bold\">)</span>\n",
       "</pre>\n"
      ],
      "text/plain": [
       "\u001b[1;35mModuleList\u001b[0m\u001b[1m(\u001b[0m\n",
       "\u001b[2;32m  \u001b[0m\u001b[1m(\u001b[0m\u001b[1;36m0\u001b[0m-\u001b[1;36m11\u001b[0m\u001b[1m)\u001b[0m: \u001b[1;36m12\u001b[0m x \u001b[1;35mDebertaV2Layer\u001b[0m\u001b[1m(\u001b[0m\n",
       "\u001b[2;32m│   \u001b[0m\u001b[1m(\u001b[0mattention\u001b[1m)\u001b[0m: \u001b[1;35mDebertaV2Attention\u001b[0m\u001b[1m(\u001b[0m\n",
       "\u001b[2;32m│     \u001b[0m\u001b[1m(\u001b[0mself\u001b[1m)\u001b[0m: \u001b[1;35mDisentangledSelfAttention\u001b[0m\u001b[1m(\u001b[0m\n",
       "\u001b[2;32m│   │   \u001b[0m\u001b[1m(\u001b[0mquery_proj\u001b[1m)\u001b[0m: \u001b[1;35mLinear\u001b[0m\u001b[1m(\u001b[0m\u001b[33min_features\u001b[0m=\u001b[1;36m384\u001b[0m, \u001b[33mout_features\u001b[0m=\u001b[1;36m384\u001b[0m, \u001b[33mbias\u001b[0m=\u001b[3;92mTrue\u001b[0m\u001b[1m)\u001b[0m\n",
       "\u001b[2;32m│   │   \u001b[0m\u001b[1m(\u001b[0mkey_proj\u001b[1m)\u001b[0m: \u001b[1;35mLinear\u001b[0m\u001b[1m(\u001b[0m\u001b[33min_features\u001b[0m=\u001b[1;36m384\u001b[0m, \u001b[33mout_features\u001b[0m=\u001b[1;36m384\u001b[0m, \u001b[33mbias\u001b[0m=\u001b[3;92mTrue\u001b[0m\u001b[1m)\u001b[0m\n",
       "\u001b[2;32m│   │   \u001b[0m\u001b[1m(\u001b[0mvalue_proj\u001b[1m)\u001b[0m: \u001b[1;35mLinear\u001b[0m\u001b[1m(\u001b[0m\u001b[33min_features\u001b[0m=\u001b[1;36m384\u001b[0m, \u001b[33mout_features\u001b[0m=\u001b[1;36m384\u001b[0m, \u001b[33mbias\u001b[0m=\u001b[3;92mTrue\u001b[0m\u001b[1m)\u001b[0m\n",
       "\u001b[2;32m│   │   \u001b[0m\u001b[1m(\u001b[0mpos_dropout\u001b[1m)\u001b[0m: \u001b[1;35mStableDropout\u001b[0m\u001b[1m(\u001b[0m\u001b[1m)\u001b[0m\n",
       "\u001b[2;32m│   │   \u001b[0m\u001b[1m(\u001b[0mdropout\u001b[1m)\u001b[0m: \u001b[1;35mStableDropout\u001b[0m\u001b[1m(\u001b[0m\u001b[1m)\u001b[0m\n",
       "\u001b[2;32m│     \u001b[0m\u001b[1m)\u001b[0m\n",
       "\u001b[2;32m│     \u001b[0m\u001b[1m(\u001b[0moutput\u001b[1m)\u001b[0m: \u001b[1;35mDebertaV2SelfOutput\u001b[0m\u001b[1m(\u001b[0m\n",
       "\u001b[2;32m│   │   \u001b[0m\u001b[1m(\u001b[0mdense\u001b[1m)\u001b[0m: \u001b[1;35mLinear\u001b[0m\u001b[1m(\u001b[0m\u001b[33min_features\u001b[0m=\u001b[1;36m384\u001b[0m, \u001b[33mout_features\u001b[0m=\u001b[1;36m384\u001b[0m, \u001b[33mbias\u001b[0m=\u001b[3;92mTrue\u001b[0m\u001b[1m)\u001b[0m\n",
       "\u001b[2;32m│   │   \u001b[0m\u001b[1m(\u001b[0mLayerNorm\u001b[1m)\u001b[0m: \u001b[1;35mLayerNorm\u001b[0m\u001b[1m(\u001b[0m\u001b[1m(\u001b[0m\u001b[1;36m384\u001b[0m,\u001b[1m)\u001b[0m, \u001b[33meps\u001b[0m=\u001b[1;36m1e\u001b[0m\u001b[1;36m-07\u001b[0m, \u001b[33melementwise_affine\u001b[0m=\u001b[3;92mTrue\u001b[0m\u001b[1m)\u001b[0m\n",
       "\u001b[2;32m│   │   \u001b[0m\u001b[1m(\u001b[0mdropout\u001b[1m)\u001b[0m: \u001b[1;35mStableDropout\u001b[0m\u001b[1m(\u001b[0m\u001b[1m)\u001b[0m\n",
       "\u001b[2;32m│     \u001b[0m\u001b[1m)\u001b[0m\n",
       "\u001b[2;32m│   \u001b[0m\u001b[1m)\u001b[0m\n",
       "\u001b[2;32m│   \u001b[0m\u001b[1m(\u001b[0mintermediate\u001b[1m)\u001b[0m: \u001b[1;35mDebertaV2Intermediate\u001b[0m\u001b[1m(\u001b[0m\n",
       "\u001b[2;32m│     \u001b[0m\u001b[1m(\u001b[0mdense\u001b[1m)\u001b[0m: \u001b[1;35mLinear\u001b[0m\u001b[1m(\u001b[0m\u001b[33min_features\u001b[0m=\u001b[1;36m384\u001b[0m, \u001b[33mout_features\u001b[0m=\u001b[1;36m1536\u001b[0m, \u001b[33mbias\u001b[0m=\u001b[3;92mTrue\u001b[0m\u001b[1m)\u001b[0m\n",
       "\u001b[2;32m│     \u001b[0m\u001b[1m(\u001b[0mintermediate_act_fn\u001b[1m)\u001b[0m: \u001b[1;35mGELUActivation\u001b[0m\u001b[1m(\u001b[0m\u001b[1m)\u001b[0m\n",
       "\u001b[2;32m│   \u001b[0m\u001b[1m)\u001b[0m\n",
       "\u001b[2;32m│   \u001b[0m\u001b[1m(\u001b[0moutput\u001b[1m)\u001b[0m: \u001b[1;35mDebertaV2Output\u001b[0m\u001b[1m(\u001b[0m\n",
       "\u001b[2;32m│     \u001b[0m\u001b[1m(\u001b[0mdense\u001b[1m)\u001b[0m: \u001b[1;35mLinear\u001b[0m\u001b[1m(\u001b[0m\u001b[33min_features\u001b[0m=\u001b[1;36m1536\u001b[0m, \u001b[33mout_features\u001b[0m=\u001b[1;36m384\u001b[0m, \u001b[33mbias\u001b[0m=\u001b[3;92mTrue\u001b[0m\u001b[1m)\u001b[0m\n",
       "\u001b[2;32m│     \u001b[0m\u001b[1m(\u001b[0mLayerNorm\u001b[1m)\u001b[0m: \u001b[1;35mLayerNorm\u001b[0m\u001b[1m(\u001b[0m\u001b[1m(\u001b[0m\u001b[1;36m384\u001b[0m,\u001b[1m)\u001b[0m, \u001b[33meps\u001b[0m=\u001b[1;36m1e\u001b[0m\u001b[1;36m-07\u001b[0m, \u001b[33melementwise_affine\u001b[0m=\u001b[3;92mTrue\u001b[0m\u001b[1m)\u001b[0m\n",
       "\u001b[2;32m│     \u001b[0m\u001b[1m(\u001b[0mdropout\u001b[1m)\u001b[0m: \u001b[1;35mStableDropout\u001b[0m\u001b[1m(\u001b[0m\u001b[1m)\u001b[0m\n",
       "\u001b[2;32m│   \u001b[0m\u001b[1m)\u001b[0m\n",
       "\u001b[2;32m  \u001b[0m\u001b[1m)\u001b[0m\n",
       "\u001b[1m)\u001b[0m\n"
      ]
     },
     "metadata": {},
     "output_type": "display_data"
    },
    {
     "data": {
      "text/html": [
       "<pre style=\"white-space:pre;overflow-x:auto;line-height:normal;font-family:Menlo,'DejaVu Sans Mono',consolas,'Courier New',monospace\"><span style=\"color: #008080; text-decoration-color: #008080; font-weight: bold\">12</span>\n",
       "</pre>\n"
      ],
      "text/plain": [
       "\u001b[1;36m12\u001b[0m\n"
      ]
     },
     "metadata": {},
     "output_type": "display_data"
    },
    {
     "name": "stdout",
     "output_type": "stream",
     "text": [
      "dict_keys(['0.attention.self.query_proj.weight'])\n",
      "dict_keys(['0.attention.self.query_proj.bias'])\n",
      "dict_keys(['0.attention.self.key_proj.weight'])\n",
      "dict_keys(['0.attention.self.key_proj.bias'])\n",
      "dict_keys(['0.attention.self.value_proj.weight'])\n",
      "dict_keys(['0.attention.self.value_proj.bias'])\n",
      "dict_keys(['0.attention.output.dense.weight'])\n",
      "dict_keys(['0.attention.output.dense.bias'])\n",
      "dict_keys(['0.attention.output.LayerNorm.weight'])\n",
      "dict_keys(['0.attention.output.LayerNorm.bias'])\n",
      "dict_keys(['0.intermediate.dense.weight'])\n",
      "dict_keys(['0.intermediate.dense.bias'])\n",
      "dict_keys(['0.output.dense.weight'])\n",
      "dict_keys(['0.output.dense.bias'])\n",
      "dict_keys(['0.output.LayerNorm.weight'])\n",
      "dict_keys(['0.output.LayerNorm.bias'])\n",
      "dict_keys(['1.attention.self.query_proj.weight'])\n",
      "dict_keys(['1.attention.self.query_proj.bias'])\n",
      "dict_keys(['1.attention.self.key_proj.weight'])\n",
      "dict_keys(['1.attention.self.key_proj.bias'])\n",
      "dict_keys(['1.attention.self.value_proj.weight'])\n",
      "dict_keys(['1.attention.self.value_proj.bias'])\n",
      "dict_keys(['1.attention.output.dense.weight'])\n",
      "dict_keys(['1.attention.output.dense.bias'])\n",
      "dict_keys(['1.attention.output.LayerNorm.weight'])\n",
      "dict_keys(['1.attention.output.LayerNorm.bias'])\n",
      "dict_keys(['1.intermediate.dense.weight'])\n",
      "dict_keys(['1.intermediate.dense.bias'])\n",
      "dict_keys(['1.output.dense.weight'])\n",
      "dict_keys(['1.output.dense.bias'])\n",
      "dict_keys(['1.output.LayerNorm.weight'])\n",
      "dict_keys(['1.output.LayerNorm.bias'])\n",
      "dict_keys(['2.attention.self.query_proj.weight'])\n",
      "dict_keys(['2.attention.self.query_proj.bias'])\n",
      "dict_keys(['2.attention.self.key_proj.weight'])\n",
      "dict_keys(['2.attention.self.key_proj.bias'])\n",
      "dict_keys(['2.attention.self.value_proj.weight'])\n",
      "dict_keys(['2.attention.self.value_proj.bias'])\n",
      "dict_keys(['2.attention.output.dense.weight'])\n",
      "dict_keys(['2.attention.output.dense.bias'])\n",
      "dict_keys(['2.attention.output.LayerNorm.weight'])\n",
      "dict_keys(['2.attention.output.LayerNorm.bias'])\n",
      "dict_keys(['2.intermediate.dense.weight'])\n",
      "dict_keys(['2.intermediate.dense.bias'])\n",
      "dict_keys(['2.output.dense.weight'])\n",
      "dict_keys(['2.output.dense.bias'])\n",
      "dict_keys(['2.output.LayerNorm.weight'])\n",
      "dict_keys(['2.output.LayerNorm.bias'])\n",
      "dict_keys(['3.attention.self.query_proj.weight'])\n",
      "dict_keys(['3.attention.self.query_proj.bias'])\n",
      "dict_keys(['3.attention.self.key_proj.weight'])\n",
      "dict_keys(['3.attention.self.key_proj.bias'])\n",
      "dict_keys(['3.attention.self.value_proj.weight'])\n",
      "dict_keys(['3.attention.self.value_proj.bias'])\n",
      "dict_keys(['3.attention.output.dense.weight'])\n",
      "dict_keys(['3.attention.output.dense.bias'])\n",
      "dict_keys(['3.attention.output.LayerNorm.weight'])\n",
      "dict_keys(['3.attention.output.LayerNorm.bias'])\n",
      "dict_keys(['3.intermediate.dense.weight'])\n",
      "dict_keys(['3.intermediate.dense.bias'])\n",
      "dict_keys(['3.output.dense.weight'])\n",
      "dict_keys(['3.output.dense.bias'])\n",
      "dict_keys(['3.output.LayerNorm.weight'])\n",
      "dict_keys(['3.output.LayerNorm.bias'])\n",
      "dict_keys(['4.attention.self.query_proj.weight'])\n",
      "dict_keys(['4.attention.self.query_proj.bias'])\n",
      "dict_keys(['4.attention.self.key_proj.weight'])\n",
      "dict_keys(['4.attention.self.key_proj.bias'])\n",
      "dict_keys(['4.attention.self.value_proj.weight'])\n",
      "dict_keys(['4.attention.self.value_proj.bias'])\n",
      "dict_keys(['4.attention.output.dense.weight'])\n",
      "dict_keys(['4.attention.output.dense.bias'])\n",
      "dict_keys(['4.attention.output.LayerNorm.weight'])\n",
      "dict_keys(['4.attention.output.LayerNorm.bias'])\n",
      "dict_keys(['4.intermediate.dense.weight'])\n",
      "dict_keys(['4.intermediate.dense.bias'])\n",
      "dict_keys(['4.output.dense.weight'])\n",
      "dict_keys(['4.output.dense.bias'])\n",
      "dict_keys(['4.output.LayerNorm.weight'])\n",
      "dict_keys(['4.output.LayerNorm.bias'])\n",
      "dict_keys(['5.attention.self.query_proj.weight'])\n",
      "dict_keys(['5.attention.self.query_proj.bias'])\n",
      "dict_keys(['5.attention.self.key_proj.weight'])\n",
      "dict_keys(['5.attention.self.key_proj.bias'])\n",
      "dict_keys(['5.attention.self.value_proj.weight'])\n",
      "dict_keys(['5.attention.self.value_proj.bias'])\n",
      "dict_keys(['5.attention.output.dense.weight'])\n",
      "dict_keys(['5.attention.output.dense.bias'])\n",
      "dict_keys(['5.attention.output.LayerNorm.weight'])\n",
      "dict_keys(['5.attention.output.LayerNorm.bias'])\n",
      "dict_keys(['5.intermediate.dense.weight'])\n",
      "dict_keys(['5.intermediate.dense.bias'])\n",
      "dict_keys(['5.output.dense.weight'])\n",
      "dict_keys(['5.output.dense.bias'])\n",
      "dict_keys(['5.output.LayerNorm.weight'])\n",
      "dict_keys(['5.output.LayerNorm.bias'])\n",
      "dict_keys(['6.attention.self.query_proj.weight'])\n",
      "dict_keys(['6.attention.self.query_proj.bias'])\n",
      "dict_keys(['6.attention.self.key_proj.weight'])\n",
      "dict_keys(['6.attention.self.key_proj.bias'])\n",
      "dict_keys(['6.attention.self.value_proj.weight'])\n",
      "dict_keys(['6.attention.self.value_proj.bias'])\n",
      "dict_keys(['6.attention.output.dense.weight'])\n",
      "dict_keys(['6.attention.output.dense.bias'])\n",
      "dict_keys(['6.attention.output.LayerNorm.weight'])\n",
      "dict_keys(['6.attention.output.LayerNorm.bias'])\n",
      "dict_keys(['6.intermediate.dense.weight'])\n",
      "dict_keys(['6.intermediate.dense.bias'])\n",
      "dict_keys(['6.output.dense.weight'])\n",
      "dict_keys(['6.output.dense.bias'])\n",
      "dict_keys(['6.output.LayerNorm.weight'])\n",
      "dict_keys(['6.output.LayerNorm.bias'])\n",
      "dict_keys(['7.attention.self.query_proj.weight'])\n",
      "dict_keys(['7.attention.self.query_proj.bias'])\n",
      "dict_keys(['7.attention.self.key_proj.weight'])\n",
      "dict_keys(['7.attention.self.key_proj.bias'])\n",
      "dict_keys(['7.attention.self.value_proj.weight'])\n",
      "dict_keys(['7.attention.self.value_proj.bias'])\n",
      "dict_keys(['7.attention.output.dense.weight'])\n",
      "dict_keys(['7.attention.output.dense.bias'])\n",
      "dict_keys(['7.attention.output.LayerNorm.weight'])\n",
      "dict_keys(['7.attention.output.LayerNorm.bias'])\n",
      "dict_keys(['7.intermediate.dense.weight'])\n",
      "dict_keys(['7.intermediate.dense.bias'])\n",
      "dict_keys(['7.output.dense.weight'])\n",
      "dict_keys(['7.output.dense.bias'])\n",
      "dict_keys(['7.output.LayerNorm.weight'])\n",
      "dict_keys(['7.output.LayerNorm.bias'])\n",
      "dict_keys(['8.attention.self.query_proj.weight'])\n",
      "dict_keys(['8.attention.self.query_proj.bias'])\n",
      "dict_keys(['8.attention.self.key_proj.weight'])\n",
      "dict_keys(['8.attention.self.key_proj.bias'])\n",
      "dict_keys(['8.attention.self.value_proj.weight'])\n",
      "dict_keys(['8.attention.self.value_proj.bias'])\n",
      "dict_keys(['8.attention.output.dense.weight'])\n",
      "dict_keys(['8.attention.output.dense.bias'])\n",
      "dict_keys(['8.attention.output.LayerNorm.weight'])\n",
      "dict_keys(['8.attention.output.LayerNorm.bias'])\n",
      "dict_keys(['8.intermediate.dense.weight'])\n",
      "dict_keys(['8.intermediate.dense.bias'])\n",
      "dict_keys(['8.output.dense.weight'])\n",
      "dict_keys(['8.output.dense.bias'])\n",
      "dict_keys(['8.output.LayerNorm.weight'])\n",
      "dict_keys(['8.output.LayerNorm.bias'])\n",
      "dict_keys(['9.attention.self.query_proj.weight'])\n",
      "dict_keys(['9.attention.self.query_proj.bias'])\n",
      "dict_keys(['9.attention.self.key_proj.weight'])\n",
      "dict_keys(['9.attention.self.key_proj.bias'])\n",
      "dict_keys(['9.attention.self.value_proj.weight'])\n",
      "dict_keys(['9.attention.self.value_proj.bias'])\n",
      "dict_keys(['9.attention.output.dense.weight'])\n",
      "dict_keys(['9.attention.output.dense.bias'])\n",
      "dict_keys(['9.attention.output.LayerNorm.weight'])\n",
      "dict_keys(['9.attention.output.LayerNorm.bias'])\n",
      "dict_keys(['9.intermediate.dense.weight'])\n",
      "dict_keys(['9.intermediate.dense.bias'])\n",
      "dict_keys(['9.output.dense.weight'])\n",
      "dict_keys(['9.output.dense.bias'])\n",
      "dict_keys(['9.output.LayerNorm.weight'])\n",
      "dict_keys(['9.output.LayerNorm.bias'])\n",
      "dict_keys(['10.attention.self.query_proj.weight'])\n",
      "dict_keys(['10.attention.self.query_proj.bias'])\n",
      "dict_keys(['10.attention.self.key_proj.weight'])\n",
      "dict_keys(['10.attention.self.key_proj.bias'])\n",
      "dict_keys(['10.attention.self.value_proj.weight'])\n",
      "dict_keys(['10.attention.self.value_proj.bias'])\n",
      "dict_keys(['10.attention.output.dense.weight'])\n",
      "dict_keys(['10.attention.output.dense.bias'])\n",
      "dict_keys(['10.attention.output.LayerNorm.weight'])\n",
      "dict_keys(['10.attention.output.LayerNorm.bias'])\n",
      "dict_keys(['10.intermediate.dense.weight'])\n",
      "dict_keys(['10.intermediate.dense.bias'])\n",
      "dict_keys(['10.output.dense.weight'])\n",
      "dict_keys(['10.output.dense.bias'])\n",
      "dict_keys(['10.output.LayerNorm.weight'])\n",
      "dict_keys(['10.output.LayerNorm.bias'])\n",
      "dict_keys(['11.attention.self.query_proj.weight'])\n",
      "dict_keys(['11.attention.self.query_proj.bias'])\n",
      "dict_keys(['11.attention.self.key_proj.weight'])\n",
      "dict_keys(['11.attention.self.key_proj.bias'])\n",
      "dict_keys(['11.attention.self.value_proj.weight'])\n",
      "dict_keys(['11.attention.self.value_proj.bias'])\n",
      "dict_keys(['11.attention.output.dense.weight'])\n",
      "dict_keys(['11.attention.output.dense.bias'])\n",
      "dict_keys(['11.attention.output.LayerNorm.weight'])\n",
      "dict_keys(['11.attention.output.LayerNorm.bias'])\n",
      "dict_keys(['11.intermediate.dense.weight'])\n",
      "dict_keys(['11.intermediate.dense.bias'])\n",
      "dict_keys(['11.output.dense.weight'])\n",
      "dict_keys(['11.output.dense.bias'])\n",
      "dict_keys(['11.output.LayerNorm.weight'])\n",
      "dict_keys(['11.output.LayerNorm.bias'])\n"
     ]
    }
   ],
   "source": [
    "backbone_group = BASE_MODEL.deberta.encoder\n",
    "pprint(backbone_group) # has additional rel embeddings + layernorm\n",
    "\n",
    "backbone_group = BASE_MODEL.deberta.encoder.layer\n",
    "pprint(backbone_group)\n",
    "\n",
    "pprint(backbone_group.__len__())\n",
    "\n",
    "backbone_named_parameters = get_named_parameters(backbone_group)\n",
    "\n",
    "for module in backbone_named_parameters:\n",
    "    print(module.keys())\n"
   ]
  },
  {
   "cell_type": "code",
   "execution_count": 5,
   "metadata": {},
   "outputs": [
    {
     "data": {
      "text/html": [
       "<pre style=\"white-space:pre;overflow-x:auto;line-height:normal;font-family:Menlo,'DejaVu Sans Mono',consolas,'Courier New',monospace\"><span style=\"color: #800080; text-decoration-color: #800080; font-weight: bold\">ContextPooler</span><span style=\"font-weight: bold\">(</span>\n",
       "<span style=\"color: #7fbf7f; text-decoration-color: #7fbf7f\">  </span><span style=\"font-weight: bold\">(</span>dense<span style=\"font-weight: bold\">)</span>: <span style=\"color: #800080; text-decoration-color: #800080; font-weight: bold\">Linear</span><span style=\"font-weight: bold\">(</span><span style=\"color: #808000; text-decoration-color: #808000\">in_features</span>=<span style=\"color: #008080; text-decoration-color: #008080; font-weight: bold\">384</span>, <span style=\"color: #808000; text-decoration-color: #808000\">out_features</span>=<span style=\"color: #008080; text-decoration-color: #008080; font-weight: bold\">384</span>, <span style=\"color: #808000; text-decoration-color: #808000\">bias</span>=<span style=\"color: #00ff00; text-decoration-color: #00ff00; font-style: italic\">True</span><span style=\"font-weight: bold\">)</span>\n",
       "<span style=\"color: #7fbf7f; text-decoration-color: #7fbf7f\">  </span><span style=\"font-weight: bold\">(</span>dropout<span style=\"font-weight: bold\">)</span>: <span style=\"color: #800080; text-decoration-color: #800080; font-weight: bold\">StableDropout</span><span style=\"font-weight: bold\">()</span>\n",
       "<span style=\"font-weight: bold\">)</span>\n",
       "</pre>\n"
      ],
      "text/plain": [
       "\u001b[1;35mContextPooler\u001b[0m\u001b[1m(\u001b[0m\n",
       "\u001b[2;32m  \u001b[0m\u001b[1m(\u001b[0mdense\u001b[1m)\u001b[0m: \u001b[1;35mLinear\u001b[0m\u001b[1m(\u001b[0m\u001b[33min_features\u001b[0m=\u001b[1;36m384\u001b[0m, \u001b[33mout_features\u001b[0m=\u001b[1;36m384\u001b[0m, \u001b[33mbias\u001b[0m=\u001b[3;92mTrue\u001b[0m\u001b[1m)\u001b[0m\n",
       "\u001b[2;32m  \u001b[0m\u001b[1m(\u001b[0mdropout\u001b[1m)\u001b[0m: \u001b[1;35mStableDropout\u001b[0m\u001b[1m(\u001b[0m\u001b[1m)\u001b[0m\n",
       "\u001b[1m)\u001b[0m\n"
      ]
     },
     "metadata": {},
     "output_type": "display_data"
    },
    {
     "name": "stdout",
     "output_type": "stream",
     "text": [
      "dict_keys(['dense.weight'])\n",
      "dict_keys(['dense.bias'])\n"
     ]
    }
   ],
   "source": [
    "pooler_group = BASE_MODEL.pooler\n",
    "pprint(pooler_group)\n",
    "\n",
    "pooler_named_parameters = get_named_parameters(pooler_group)\n",
    "for module in pooler_named_parameters:\n",
    "    print(module.keys())"
   ]
  },
  {
   "cell_type": "code",
   "execution_count": 6,
   "metadata": {},
   "outputs": [
    {
     "data": {
      "text/html": [
       "<pre style=\"white-space:pre;overflow-x:auto;line-height:normal;font-family:Menlo,'DejaVu Sans Mono',consolas,'Courier New',monospace\"><span style=\"color: #800080; text-decoration-color: #800080; font-weight: bold\">Linear</span><span style=\"font-weight: bold\">(</span><span style=\"color: #808000; text-decoration-color: #808000\">in_features</span>=<span style=\"color: #008080; text-decoration-color: #008080; font-weight: bold\">384</span>, <span style=\"color: #808000; text-decoration-color: #808000\">out_features</span>=<span style=\"color: #008080; text-decoration-color: #008080; font-weight: bold\">2</span>, <span style=\"color: #808000; text-decoration-color: #808000\">bias</span>=<span style=\"color: #00ff00; text-decoration-color: #00ff00; font-style: italic\">True</span><span style=\"font-weight: bold\">)</span>\n",
       "</pre>\n"
      ],
      "text/plain": [
       "\u001b[1;35mLinear\u001b[0m\u001b[1m(\u001b[0m\u001b[33min_features\u001b[0m=\u001b[1;36m384\u001b[0m, \u001b[33mout_features\u001b[0m=\u001b[1;36m2\u001b[0m, \u001b[33mbias\u001b[0m=\u001b[3;92mTrue\u001b[0m\u001b[1m)\u001b[0m\n"
      ]
     },
     "metadata": {},
     "output_type": "display_data"
    },
    {
     "name": "stdout",
     "output_type": "stream",
     "text": [
      "dict_keys(['weight'])\n",
      "dict_keys(['bias'])\n"
     ]
    }
   ],
   "source": [
    "head_group = BASE_MODEL.classifier\n",
    "pprint(head_group)\n",
    "\n",
    "head_named_parameters = get_named_parameters(head_group)\n",
    "for module in head_named_parameters:\n",
    "    print(module.keys())\n"
   ]
  },
  {
   "cell_type": "code",
   "execution_count": 7,
   "metadata": {},
   "outputs": [],
   "source": [
    "\n",
    "def get_optimizer_grouped_parameters_by_category(\n",
    "    model: nn.Module,\n",
    "    learning_rate: float,\n",
    "    weight_decay: float,\n",
    "    layerwise_learning_rate_decay_mulitplier: float = 0.95,\n",
    "    pooler_lr: float | None = None,\n",
    "    head_lr: float | None = None,\n",
    "    pooler_weight_decay: float | None = None,\n",
    "    head_weight_decay: float | None = None,\n",
    ") -> List[Dict[str, str | float | List[nn.Parameter]]]:\n",
    "\n",
    "    # LayerNorm.bias is automatically included in no decay since bias is in no decay\n",
    "    no_decay = [\"bias\", \"LayerNorm.bias\", \"LayerNorm.weight\"]\n",
    "\n",
    "    embeddings_group = model.deberta.embeddings\n",
    "    backbone_group = model.deberta.encoder.layer\n",
    "    pooler_group = model.pooler\n",
    "    head_group = model.classifier\n",
    "\n",
    "    head_no_decay = {\n",
    "        \"params\": [\n",
    "            parameter\n",
    "            for parameter_name, parameter in head_group.named_parameters()\n",
    "            if any(nd in parameter_name for nd in no_decay)\n",
    "        ],\n",
    "        \"weight_decay\": 0.0,\n",
    "        \"lr\": learning_rate if head_lr is None else head_lr,\n",
    "        \"name\": \"head_no_decay\",\n",
    "    }\n",
    "\n",
    "    head_decay = {\n",
    "        \"params\": [\n",
    "            parameter\n",
    "            for parameter_name, parameter in head_group.named_parameters()\n",
    "            if not any(nd in parameter_name for nd in no_decay)\n",
    "        ],\n",
    "        \"weight_decay\": weight_decay if head_weight_decay is None else head_weight_decay,\n",
    "        \"lr\": learning_rate if head_lr is None else head_lr,\n",
    "        \"name\": \"head_decay\",\n",
    "    }\n",
    "\n",
    "    # this group applies no weight decay\n",
    "    pooler_no_decay = {\n",
    "        \"params\": [\n",
    "            parameter\n",
    "            for parameter_name, parameter in pooler_group.named_parameters()\n",
    "            if any(nd in parameter_name for nd in no_decay)\n",
    "        ],\n",
    "        \"weight_decay\": 0.0,\n",
    "        \"lr\": learning_rate if pooler_lr is None else pooler_lr,\n",
    "        \"name\": \"pooler_no_decay\",\n",
    "    }\n",
    "\n",
    "    pooler_decay = {\n",
    "        \"params\": [\n",
    "            parameter\n",
    "            for parameter_name, parameter in pooler_group.named_parameters()\n",
    "            if not any(nd in parameter_name for nd in no_decay)\n",
    "        ],\n",
    "        \"weight_decay\": weight_decay if pooler_weight_decay is None else pooler_weight_decay,\n",
    "        \"lr\": learning_rate if pooler_lr is None else pooler_lr,\n",
    "        \"name\": \"pooler_decay\",\n",
    "    }\n",
    "\n",
    "\n",
    "    optimizer_grouped_parameters = [pooler_no_decay, pooler_decay, head_no_decay, head_decay]\n",
    "    embeddings_and_backbone_group = [embeddings_group] + list(backbone_group)\n",
    "    embeddings_and_backbone_group.reverse()\n",
    "\n",
    "    lr = learning_rate\n",
    "    # NOTE: decay only happens at a embedding + backbone level\n",
    "    for index, layer in enumerate(embeddings_and_backbone_group):\n",
    "        lr *= layerwise_learning_rate_decay_mulitplier\n",
    "        # NOTE: add no decay and decay groups for encoder/backbone\n",
    "\n",
    "        optimizer_grouped_parameters += [\n",
    "            {\n",
    "                \"params\": [parameter for parameter_name, parameter in layer.named_parameters() if not any(nd in parameter_name for nd in no_decay)],\n",
    "                \"weight_decay\": weight_decay,\n",
    "                \"lr\": lr,\n",
    "                \"name\": f\"{layer.__class__.__name__}_{index}_decay\",\n",
    "            },\n",
    "            {\n",
    "                \"params\": [parameter for parameter_name, parameter in layer.named_parameters() if any(nd in parameter_name for nd in no_decay)],\n",
    "                \"weight_decay\": 0.0,\n",
    "                \"lr\": lr,\n",
    "                \"name\": f\"{layer.__class__.__name__}_{index}_no_decay\",\n",
    "            },\n",
    "        ]\n",
    "    return optimizer_grouped_parameters"
   ]
  },
  {
   "cell_type": "code",
   "execution_count": 8,
   "metadata": {},
   "outputs": [],
   "source": [
    "# def get_optimizer_grouped_parameters_by_layer(\n",
    "#     model: nn.Module,\n",
    "#     group_configs: List[Dict[str, str | float | bool]],\n",
    "#     default_learning_rate: float,\n",
    "#     default_weight_decay: float,\n",
    "#     layerwise_learning_rate_decay_mulitplier: float = 0.95\n",
    "# ) -> List[Dict[str, str | float | List[nn.Parameter]]]:\n",
    "#     no_decay = [\"bias\", \"LayerNorm.bias\", \"LayerNorm.weight\"]\n",
    "#     optimizer_parameter_groups = []\n",
    "#     named_parameters = list(model.named_parameters())\n",
    "\n",
    "#     for parameter_name, parameter in named_parameters:\n",
    "#         weight_decay = 0.0 if any(nd in parameter_name for nd in no_decay) else default_weight_decay\n",
    "#         # if weight_decay == 0.0:\n",
    "#         #     print(f\"parameter_name: {parameter_name} has no weight decay\")\n",
    "\n",
    "#         applied = False\n",
    "\n",
    "#         for group_config in group_configs:\n",
    "#             if parameter_name.startswith(group_config[\"prefix\"]):\n",
    "#                 layer_lr = group_config.get(\"base_lr\", default_learning_rate)\n",
    "\n",
    "#                 if group_config.get(\"llrd\", False):\n",
    "#                     layer_lr *= layerwise_learning_rate_decay_mulitplier\n",
    "#                     optimizer_parameter_groups.append(\n",
    "#                         {\n",
    "#                             \"params\": parameter,\n",
    "#                             \"weight_decay\": weight_decay,\n",
    "#                             \"lr\": layer_lr,\n",
    "#                             \"name\": f\"{group_config['prefix']}_decay\",\n",
    "#                         }\n",
    "#                     )\n",
    "\n",
    "#                 else:\n",
    "#                     optimizer_parameter_groups.append(\n",
    "#                         {\n",
    "#                             \"params\": parameter,\n",
    "#                             \"weight_decay\": weight_decay,\n",
    "#                             \"lr\": layer_lr,\n",
    "#                             \"name\": f\"{group_config['prefix']}_decay\",\n",
    "#                         }\n",
    "#                     )\n",
    "#                 applied = True\n",
    "#                 break\n",
    "\n",
    "#         if not applied:\n",
    "#             optimizer_parameter_groups.append(\n",
    "#                 {\n",
    "#                     \"params\": parameter,\n",
    "#                     \"weight_decay\": weight_decay,\n",
    "#                     \"lr\": default_learning_rate,\n",
    "#                     \"name\": \"default\",\n",
    "#                 }\n",
    "#             )\n",
    "\n",
    "#     return optimizer_parameter_groups\n",
    "\n",
    "\n",
    "# group_configs = [\n",
    "#     {\"prefix\": \"deberta.encoder\", \"base_lr\": 1e-4, \"llrd\": True},\n",
    "#     {\"prefix\": \"deberta.embeddings\", \"base_lr\": 1e-5, \"llrd\": False},\n",
    "#     {\"prefix\": \"pooler\", \"base_lr\": 1e-3, \"llrd\": False},\n",
    "#     {\"prefix\": \"classifier\", \"base_lr\": 1e-3, \"llrd\": False},\n",
    "# ]"
   ]
  },
  {
   "cell_type": "code",
   "execution_count": 9,
   "metadata": {},
   "outputs": [],
   "source": [
    "weight_decay = 0.01\n",
    "learning_rate = 1e-2\n",
    "layerwise_learning_rate_decay_mulitplier = 0.9\n",
    "num_epochs = 20\n",
    "num_warmup_steps = 0"
   ]
  },
  {
   "cell_type": "code",
   "execution_count": 10,
   "metadata": {},
   "outputs": [],
   "source": [
    "# grouped_optimizer_params = get_optimizer_grouped_parameters_by_layer(\n",
    "#     model=BASE_MODEL,\n",
    "#     default_learning_rate=learning_rate,\n",
    "#     default_weight_decay=weight_decay,\n",
    "#     layerwise_learning_rate_decay_mulitplier=layerwise_learning_rate_decay_mulitplier,\n",
    "#     group_configs=group_configs\n",
    "# )\n",
    "\n",
    "# # grouped_optimizer_params"
   ]
  },
  {
   "cell_type": "code",
   "execution_count": 11,
   "metadata": {},
   "outputs": [],
   "source": [
    "grouped_optimizer_params = get_optimizer_grouped_parameters_per_category(\n",
    "    model=BASE_MODEL,\n",
    "    learning_rate=learning_rate,\n",
    "    weight_decay=weight_decay,\n",
    "    layerwise_learning_rate_decay_mulitplier=layerwise_learning_rate_decay_mulitplier,\n",
    ")\n",
    "\n",
    "# grouped_optimizer_params"
   ]
  },
  {
   "cell_type": "code",
   "execution_count": 12,
   "metadata": {},
   "outputs": [
    {
     "data": {
      "text/plain": [
       "AdamW (\n",
       "Parameter Group 0\n",
       "    amsgrad: False\n",
       "    betas: (0.9, 0.999)\n",
       "    capturable: False\n",
       "    differentiable: False\n",
       "    eps: 1e-08\n",
       "    foreach: None\n",
       "    fused: None\n",
       "    initial_lr: 0.01\n",
       "    lr: 0.01\n",
       "    maximize: False\n",
       "    name: pooler_no_decay\n",
       "    weight_decay: 0.0\n",
       "\n",
       "Parameter Group 1\n",
       "    amsgrad: False\n",
       "    betas: (0.9, 0.999)\n",
       "    capturable: False\n",
       "    differentiable: False\n",
       "    eps: 1e-08\n",
       "    foreach: None\n",
       "    fused: None\n",
       "    initial_lr: 0.01\n",
       "    lr: 0.01\n",
       "    maximize: False\n",
       "    name: pooler_decay\n",
       "    weight_decay: 0.01\n",
       "\n",
       "Parameter Group 2\n",
       "    amsgrad: False\n",
       "    betas: (0.9, 0.999)\n",
       "    capturable: False\n",
       "    differentiable: False\n",
       "    eps: 1e-08\n",
       "    foreach: None\n",
       "    fused: None\n",
       "    initial_lr: 0.01\n",
       "    lr: 0.01\n",
       "    maximize: False\n",
       "    name: head_no_decay\n",
       "    weight_decay: 0.0\n",
       "\n",
       "Parameter Group 3\n",
       "    amsgrad: False\n",
       "    betas: (0.9, 0.999)\n",
       "    capturable: False\n",
       "    differentiable: False\n",
       "    eps: 1e-08\n",
       "    foreach: None\n",
       "    fused: None\n",
       "    initial_lr: 0.01\n",
       "    lr: 0.01\n",
       "    maximize: False\n",
       "    name: head_decay\n",
       "    weight_decay: 0.01\n",
       "\n",
       "Parameter Group 4\n",
       "    amsgrad: False\n",
       "    betas: (0.9, 0.999)\n",
       "    capturable: False\n",
       "    differentiable: False\n",
       "    eps: 1e-08\n",
       "    foreach: None\n",
       "    fused: None\n",
       "    initial_lr: 0.009000000000000001\n",
       "    lr: 0.009000000000000001\n",
       "    maximize: False\n",
       "    name: DebertaV2Layer_0_decay\n",
       "    weight_decay: 0.01\n",
       "\n",
       "Parameter Group 5\n",
       "    amsgrad: False\n",
       "    betas: (0.9, 0.999)\n",
       "    capturable: False\n",
       "    differentiable: False\n",
       "    eps: 1e-08\n",
       "    foreach: None\n",
       "    fused: None\n",
       "    initial_lr: 0.009000000000000001\n",
       "    lr: 0.009000000000000001\n",
       "    maximize: False\n",
       "    name: DebertaV2Layer_0_no_decay\n",
       "    weight_decay: 0.0\n",
       "\n",
       "Parameter Group 6\n",
       "    amsgrad: False\n",
       "    betas: (0.9, 0.999)\n",
       "    capturable: False\n",
       "    differentiable: False\n",
       "    eps: 1e-08\n",
       "    foreach: None\n",
       "    fused: None\n",
       "    initial_lr: 0.008100000000000001\n",
       "    lr: 0.008100000000000001\n",
       "    maximize: False\n",
       "    name: DebertaV2Layer_1_decay\n",
       "    weight_decay: 0.01\n",
       "\n",
       "Parameter Group 7\n",
       "    amsgrad: False\n",
       "    betas: (0.9, 0.999)\n",
       "    capturable: False\n",
       "    differentiable: False\n",
       "    eps: 1e-08\n",
       "    foreach: None\n",
       "    fused: None\n",
       "    initial_lr: 0.008100000000000001\n",
       "    lr: 0.008100000000000001\n",
       "    maximize: False\n",
       "    name: DebertaV2Layer_1_no_decay\n",
       "    weight_decay: 0.0\n",
       "\n",
       "Parameter Group 8\n",
       "    amsgrad: False\n",
       "    betas: (0.9, 0.999)\n",
       "    capturable: False\n",
       "    differentiable: False\n",
       "    eps: 1e-08\n",
       "    foreach: None\n",
       "    fused: None\n",
       "    initial_lr: 0.007290000000000001\n",
       "    lr: 0.007290000000000001\n",
       "    maximize: False\n",
       "    name: DebertaV2Layer_2_decay\n",
       "    weight_decay: 0.01\n",
       "\n",
       "Parameter Group 9\n",
       "    amsgrad: False\n",
       "    betas: (0.9, 0.999)\n",
       "    capturable: False\n",
       "    differentiable: False\n",
       "    eps: 1e-08\n",
       "    foreach: None\n",
       "    fused: None\n",
       "    initial_lr: 0.007290000000000001\n",
       "    lr: 0.007290000000000001\n",
       "    maximize: False\n",
       "    name: DebertaV2Layer_2_no_decay\n",
       "    weight_decay: 0.0\n",
       "\n",
       "Parameter Group 10\n",
       "    amsgrad: False\n",
       "    betas: (0.9, 0.999)\n",
       "    capturable: False\n",
       "    differentiable: False\n",
       "    eps: 1e-08\n",
       "    foreach: None\n",
       "    fused: None\n",
       "    initial_lr: 0.006561000000000002\n",
       "    lr: 0.006561000000000002\n",
       "    maximize: False\n",
       "    name: DebertaV2Layer_3_decay\n",
       "    weight_decay: 0.01\n",
       "\n",
       "Parameter Group 11\n",
       "    amsgrad: False\n",
       "    betas: (0.9, 0.999)\n",
       "    capturable: False\n",
       "    differentiable: False\n",
       "    eps: 1e-08\n",
       "    foreach: None\n",
       "    fused: None\n",
       "    initial_lr: 0.006561000000000002\n",
       "    lr: 0.006561000000000002\n",
       "    maximize: False\n",
       "    name: DebertaV2Layer_3_no_decay\n",
       "    weight_decay: 0.0\n",
       "\n",
       "Parameter Group 12\n",
       "    amsgrad: False\n",
       "    betas: (0.9, 0.999)\n",
       "    capturable: False\n",
       "    differentiable: False\n",
       "    eps: 1e-08\n",
       "    foreach: None\n",
       "    fused: None\n",
       "    initial_lr: 0.005904900000000002\n",
       "    lr: 0.005904900000000002\n",
       "    maximize: False\n",
       "    name: DebertaV2Layer_4_decay\n",
       "    weight_decay: 0.01\n",
       "\n",
       "Parameter Group 13\n",
       "    amsgrad: False\n",
       "    betas: (0.9, 0.999)\n",
       "    capturable: False\n",
       "    differentiable: False\n",
       "    eps: 1e-08\n",
       "    foreach: None\n",
       "    fused: None\n",
       "    initial_lr: 0.005904900000000002\n",
       "    lr: 0.005904900000000002\n",
       "    maximize: False\n",
       "    name: DebertaV2Layer_4_no_decay\n",
       "    weight_decay: 0.0\n",
       "\n",
       "Parameter Group 14\n",
       "    amsgrad: False\n",
       "    betas: (0.9, 0.999)\n",
       "    capturable: False\n",
       "    differentiable: False\n",
       "    eps: 1e-08\n",
       "    foreach: None\n",
       "    fused: None\n",
       "    initial_lr: 0.005314410000000002\n",
       "    lr: 0.005314410000000002\n",
       "    maximize: False\n",
       "    name: DebertaV2Layer_5_decay\n",
       "    weight_decay: 0.01\n",
       "\n",
       "Parameter Group 15\n",
       "    amsgrad: False\n",
       "    betas: (0.9, 0.999)\n",
       "    capturable: False\n",
       "    differentiable: False\n",
       "    eps: 1e-08\n",
       "    foreach: None\n",
       "    fused: None\n",
       "    initial_lr: 0.005314410000000002\n",
       "    lr: 0.005314410000000002\n",
       "    maximize: False\n",
       "    name: DebertaV2Layer_5_no_decay\n",
       "    weight_decay: 0.0\n",
       "\n",
       "Parameter Group 16\n",
       "    amsgrad: False\n",
       "    betas: (0.9, 0.999)\n",
       "    capturable: False\n",
       "    differentiable: False\n",
       "    eps: 1e-08\n",
       "    foreach: None\n",
       "    fused: None\n",
       "    initial_lr: 0.004782969000000002\n",
       "    lr: 0.004782969000000002\n",
       "    maximize: False\n",
       "    name: DebertaV2Layer_6_decay\n",
       "    weight_decay: 0.01\n",
       "\n",
       "Parameter Group 17\n",
       "    amsgrad: False\n",
       "    betas: (0.9, 0.999)\n",
       "    capturable: False\n",
       "    differentiable: False\n",
       "    eps: 1e-08\n",
       "    foreach: None\n",
       "    fused: None\n",
       "    initial_lr: 0.004782969000000002\n",
       "    lr: 0.004782969000000002\n",
       "    maximize: False\n",
       "    name: DebertaV2Layer_6_no_decay\n",
       "    weight_decay: 0.0\n",
       "\n",
       "Parameter Group 18\n",
       "    amsgrad: False\n",
       "    betas: (0.9, 0.999)\n",
       "    capturable: False\n",
       "    differentiable: False\n",
       "    eps: 1e-08\n",
       "    foreach: None\n",
       "    fused: None\n",
       "    initial_lr: 0.004304672100000002\n",
       "    lr: 0.004304672100000002\n",
       "    maximize: False\n",
       "    name: DebertaV2Layer_7_decay\n",
       "    weight_decay: 0.01\n",
       "\n",
       "Parameter Group 19\n",
       "    amsgrad: False\n",
       "    betas: (0.9, 0.999)\n",
       "    capturable: False\n",
       "    differentiable: False\n",
       "    eps: 1e-08\n",
       "    foreach: None\n",
       "    fused: None\n",
       "    initial_lr: 0.004304672100000002\n",
       "    lr: 0.004304672100000002\n",
       "    maximize: False\n",
       "    name: DebertaV2Layer_7_no_decay\n",
       "    weight_decay: 0.0\n",
       "\n",
       "Parameter Group 20\n",
       "    amsgrad: False\n",
       "    betas: (0.9, 0.999)\n",
       "    capturable: False\n",
       "    differentiable: False\n",
       "    eps: 1e-08\n",
       "    foreach: None\n",
       "    fused: None\n",
       "    initial_lr: 0.003874204890000002\n",
       "    lr: 0.003874204890000002\n",
       "    maximize: False\n",
       "    name: DebertaV2Layer_8_decay\n",
       "    weight_decay: 0.01\n",
       "\n",
       "Parameter Group 21\n",
       "    amsgrad: False\n",
       "    betas: (0.9, 0.999)\n",
       "    capturable: False\n",
       "    differentiable: False\n",
       "    eps: 1e-08\n",
       "    foreach: None\n",
       "    fused: None\n",
       "    initial_lr: 0.003874204890000002\n",
       "    lr: 0.003874204890000002\n",
       "    maximize: False\n",
       "    name: DebertaV2Layer_8_no_decay\n",
       "    weight_decay: 0.0\n",
       "\n",
       "Parameter Group 22\n",
       "    amsgrad: False\n",
       "    betas: (0.9, 0.999)\n",
       "    capturable: False\n",
       "    differentiable: False\n",
       "    eps: 1e-08\n",
       "    foreach: None\n",
       "    fused: None\n",
       "    initial_lr: 0.003486784401000002\n",
       "    lr: 0.003486784401000002\n",
       "    maximize: False\n",
       "    name: DebertaV2Layer_9_decay\n",
       "    weight_decay: 0.01\n",
       "\n",
       "Parameter Group 23\n",
       "    amsgrad: False\n",
       "    betas: (0.9, 0.999)\n",
       "    capturable: False\n",
       "    differentiable: False\n",
       "    eps: 1e-08\n",
       "    foreach: None\n",
       "    fused: None\n",
       "    initial_lr: 0.003486784401000002\n",
       "    lr: 0.003486784401000002\n",
       "    maximize: False\n",
       "    name: DebertaV2Layer_9_no_decay\n",
       "    weight_decay: 0.0\n",
       "\n",
       "Parameter Group 24\n",
       "    amsgrad: False\n",
       "    betas: (0.9, 0.999)\n",
       "    capturable: False\n",
       "    differentiable: False\n",
       "    eps: 1e-08\n",
       "    foreach: None\n",
       "    fused: None\n",
       "    initial_lr: 0.003138105960900002\n",
       "    lr: 0.003138105960900002\n",
       "    maximize: False\n",
       "    name: DebertaV2Layer_10_decay\n",
       "    weight_decay: 0.01\n",
       "\n",
       "Parameter Group 25\n",
       "    amsgrad: False\n",
       "    betas: (0.9, 0.999)\n",
       "    capturable: False\n",
       "    differentiable: False\n",
       "    eps: 1e-08\n",
       "    foreach: None\n",
       "    fused: None\n",
       "    initial_lr: 0.003138105960900002\n",
       "    lr: 0.003138105960900002\n",
       "    maximize: False\n",
       "    name: DebertaV2Layer_10_no_decay\n",
       "    weight_decay: 0.0\n",
       "\n",
       "Parameter Group 26\n",
       "    amsgrad: False\n",
       "    betas: (0.9, 0.999)\n",
       "    capturable: False\n",
       "    differentiable: False\n",
       "    eps: 1e-08\n",
       "    foreach: None\n",
       "    fused: None\n",
       "    initial_lr: 0.0028242953648100018\n",
       "    lr: 0.0028242953648100018\n",
       "    maximize: False\n",
       "    name: DebertaV2Layer_11_decay\n",
       "    weight_decay: 0.01\n",
       "\n",
       "Parameter Group 27\n",
       "    amsgrad: False\n",
       "    betas: (0.9, 0.999)\n",
       "    capturable: False\n",
       "    differentiable: False\n",
       "    eps: 1e-08\n",
       "    foreach: None\n",
       "    fused: None\n",
       "    initial_lr: 0.0028242953648100018\n",
       "    lr: 0.0028242953648100018\n",
       "    maximize: False\n",
       "    name: DebertaV2Layer_11_no_decay\n",
       "    weight_decay: 0.0\n",
       "\n",
       "Parameter Group 28\n",
       "    amsgrad: False\n",
       "    betas: (0.9, 0.999)\n",
       "    capturable: False\n",
       "    differentiable: False\n",
       "    eps: 1e-08\n",
       "    foreach: None\n",
       "    fused: None\n",
       "    initial_lr: 0.0025418658283290017\n",
       "    lr: 0.0025418658283290017\n",
       "    maximize: False\n",
       "    name: DebertaV2Embeddings_12_decay\n",
       "    weight_decay: 0.01\n",
       "\n",
       "Parameter Group 29\n",
       "    amsgrad: False\n",
       "    betas: (0.9, 0.999)\n",
       "    capturable: False\n",
       "    differentiable: False\n",
       "    eps: 1e-08\n",
       "    foreach: None\n",
       "    fused: None\n",
       "    initial_lr: 0.0025418658283290017\n",
       "    lr: 0.0025418658283290017\n",
       "    maximize: False\n",
       "    name: DebertaV2Embeddings_12_no_decay\n",
       "    weight_decay: 0.0\n",
       ")"
      ]
     },
     "execution_count": 12,
     "metadata": {},
     "output_type": "execute_result"
    }
   ],
   "source": [
    "optimizer = AdamW(\n",
    "    grouped_optimizer_params,\n",
    "    lr=learning_rate,\n",
    "    weight_decay=weight_decay\n",
    "    )\n",
    "\n",
    "scheduler = get_cosine_schedule_with_warmup(\n",
    "    optimizer,\n",
    "    num_warmup_steps=num_warmup_steps,\n",
    "    num_training_steps=num_epochs\n",
    ")\n",
    "\n",
    "optimizer"
   ]
  },
  {
   "cell_type": "code",
   "execution_count": 13,
   "metadata": {},
   "outputs": [
    {
     "name": "stdout",
     "output_type": "stream",
     "text": [
      "Some parameters are not covered by the optimizer:\n",
      "deberta.encoder.rel_embeddings.weight\n",
      "deberta.encoder.LayerNorm.weight\n",
      "deberta.encoder.LayerNorm.bias\n"
     ]
    }
   ],
   "source": [
    "# Gather all model parameters with names\n",
    "model_params = {name: param for name, param in BASE_MODEL.named_parameters()}\n",
    "\n",
    "# Gather all optimizer parameters\n",
    "opt_params = set(param for group in optimizer.param_groups for param in group['params'])\n",
    "\n",
    "# Check if all parameters are covered\n",
    "uncovered_params = {name: param for name, param in model_params.items() if param not in opt_params}\n",
    "if uncovered_params:\n",
    "    print(\"Some parameters are not covered by the optimizer:\")\n",
    "    for name in uncovered_params:\n",
    "        print(name)\n",
    "else:\n",
    "    print(\"All parameters are covered by the optimizer.\")"
   ]
  },
  {
   "cell_type": "code",
   "execution_count": 14,
   "metadata": {},
   "outputs": [],
   "source": [
    "def collect_lr(optimizer, learning_rate_storage):\n",
    "    \"\"\" Collects learning rates for each parameter group in the optimizer and appends them to corresponding storage lists.\n",
    "\n",
    "    Args:\n",
    "        optimizer (Optimizer): The PyTorch optimizer from which to collect learning rates.\n",
    "        learning_rate_storage (list of tuples): Storage for each parameter group's learning rates,\n",
    "                                                where each element is a tuple (group_name, list_of_lrs).\n",
    "    \"\"\"\n",
    "    for i, param_group in enumerate(optimizer.param_groups):\n",
    "        learning_rate_storage[i][1].append(param_group['lr'])\n",
    "\n",
    "# Initialize storage for learning rates for each parameter group\n",
    "num_param_groups = len(optimizer.param_groups)\n",
    "# Assuming each param group might already have a 'name' attribute; if not, you could add this.\n",
    "# Initialize storage for learning rates for each parameter group with their names\n",
    "learning_rate_storage = [(pg.get('name', f'Group {i}'), []) for i, pg in enumerate(optimizer.param_groups)]\n",
    "collect_lr(optimizer, learning_rate_storage)\n"
   ]
  },
  {
   "cell_type": "code",
   "execution_count": 15,
   "metadata": {},
   "outputs": [],
   "source": [
    "for epoch in range(num_epochs):\n",
    "    # Train your model\n",
    "    optimizer.step()\n",
    "    # Step the scheduler\n",
    "    scheduler.step()\n",
    "\n",
    "    # Collect the learning rates\n",
    "    collect_lr(optimizer, learning_rate_storage)"
   ]
  },
  {
   "cell_type": "code",
   "execution_count": 17,
   "metadata": {},
   "outputs": [
    {
     "data": {
      "text/html": [
       "        <script type=\"text/javascript\">\n",
       "        window.PlotlyConfig = {MathJaxConfig: 'local'};\n",
       "        if (window.MathJax && window.MathJax.Hub && window.MathJax.Hub.Config) {window.MathJax.Hub.Config({SVG: {font: \"STIX-Web\"}});}\n",
       "        if (typeof require !== 'undefined') {\n",
       "        require.undef(\"plotly\");\n",
       "        requirejs.config({\n",
       "            paths: {\n",
       "                'plotly': ['https://cdn.plot.ly/plotly-2.32.0.min']\n",
       "            }\n",
       "        });\n",
       "        require(['plotly'], function(Plotly) {\n",
       "            window._Plotly = Plotly;\n",
       "        });\n",
       "        }\n",
       "        </script>\n",
       "        "
      ]
     },
     "metadata": {},
     "output_type": "display_data"
    },
    {
     "data": {
      "application/vnd.plotly.v1+json": {
       "config": {
        "linkText": "Export to plot.ly",
        "plotlyServerURL": "https://plot.ly",
        "showLink": false
       },
       "data": [
        {
         "mode": "lines+markers",
         "name": "pooler_no_decay",
         "type": "scatter",
         "x": [
          0,
          1,
          2,
          3,
          4,
          5,
          6,
          7,
          8,
          9,
          10,
          11,
          12,
          13,
          14,
          15,
          16,
          17,
          18,
          19,
          20
         ],
         "y": [
          0.01,
          0.009938441702975689,
          0.009755282581475769,
          0.00945503262094184,
          0.009045084971874737,
          0.008535533905932738,
          0.007938926261462366,
          0.007269952498697734,
          0.006545084971874737,
          0.0057821723252011546,
          0.005,
          0.004217827674798845,
          0.003454915028125263,
          0.0027300475013022664,
          0.0020610737385376348,
          0.0014644660940672626,
          0.0009549150281252633,
          0.0005449673790581611,
          0.00024471741852423234,
          0.0000615582970243117,
          0
         ]
        },
        {
         "mode": "lines+markers",
         "name": "pooler_decay",
         "type": "scatter",
         "x": [
          0,
          1,
          2,
          3,
          4,
          5,
          6,
          7,
          8,
          9,
          10,
          11,
          12,
          13,
          14,
          15,
          16,
          17,
          18,
          19,
          20
         ],
         "y": [
          0.01,
          0.009938441702975689,
          0.009755282581475769,
          0.00945503262094184,
          0.009045084971874737,
          0.008535533905932738,
          0.007938926261462366,
          0.007269952498697734,
          0.006545084971874737,
          0.0057821723252011546,
          0.005,
          0.004217827674798845,
          0.003454915028125263,
          0.0027300475013022664,
          0.0020610737385376348,
          0.0014644660940672626,
          0.0009549150281252633,
          0.0005449673790581611,
          0.00024471741852423234,
          0.0000615582970243117,
          0
         ]
        },
        {
         "mode": "lines+markers",
         "name": "head_no_decay",
         "type": "scatter",
         "x": [
          0,
          1,
          2,
          3,
          4,
          5,
          6,
          7,
          8,
          9,
          10,
          11,
          12,
          13,
          14,
          15,
          16,
          17,
          18,
          19,
          20
         ],
         "y": [
          0.01,
          0.009938441702975689,
          0.009755282581475769,
          0.00945503262094184,
          0.009045084971874737,
          0.008535533905932738,
          0.007938926261462366,
          0.007269952498697734,
          0.006545084971874737,
          0.0057821723252011546,
          0.005,
          0.004217827674798845,
          0.003454915028125263,
          0.0027300475013022664,
          0.0020610737385376348,
          0.0014644660940672626,
          0.0009549150281252633,
          0.0005449673790581611,
          0.00024471741852423234,
          0.0000615582970243117,
          0
         ]
        },
        {
         "mode": "lines+markers",
         "name": "head_decay",
         "type": "scatter",
         "x": [
          0,
          1,
          2,
          3,
          4,
          5,
          6,
          7,
          8,
          9,
          10,
          11,
          12,
          13,
          14,
          15,
          16,
          17,
          18,
          19,
          20
         ],
         "y": [
          0.01,
          0.009938441702975689,
          0.009755282581475769,
          0.00945503262094184,
          0.009045084971874737,
          0.008535533905932738,
          0.007938926261462366,
          0.007269952498697734,
          0.006545084971874737,
          0.0057821723252011546,
          0.005,
          0.004217827674798845,
          0.003454915028125263,
          0.0027300475013022664,
          0.0020610737385376348,
          0.0014644660940672626,
          0.0009549150281252633,
          0.0005449673790581611,
          0.00024471741852423234,
          0.0000615582970243117,
          0
         ]
        },
        {
         "mode": "lines+markers",
         "name": "DebertaV2Layer_0_decay",
         "type": "scatter",
         "x": [
          0,
          1,
          2,
          3,
          4,
          5,
          6,
          7,
          8,
          9,
          10,
          11,
          12,
          13,
          14,
          15,
          16,
          17,
          18,
          19,
          20
         ],
         "y": [
          0.009000000000000001,
          0.00894459753267812,
          0.008779754323328193,
          0.008509529358847657,
          0.008140576474687265,
          0.007681980515339464,
          0.00714503363531613,
          0.006542957248827961,
          0.005890576474687264,
          0.00520395509268104,
          0.0045000000000000005,
          0.0037960449073189606,
          0.0031094235253127374,
          0.00245704275117204,
          0.0018549663646838716,
          0.0013180194846605367,
          0.0008594235253127371,
          0.000490470641152345,
          0.00022024567667180912,
          0.000055402467321880536,
          0
         ]
        },
        {
         "mode": "lines+markers",
         "name": "DebertaV2Layer_0_no_decay",
         "type": "scatter",
         "x": [
          0,
          1,
          2,
          3,
          4,
          5,
          6,
          7,
          8,
          9,
          10,
          11,
          12,
          13,
          14,
          15,
          16,
          17,
          18,
          19,
          20
         ],
         "y": [
          0.009000000000000001,
          0.00894459753267812,
          0.008779754323328193,
          0.008509529358847657,
          0.008140576474687265,
          0.007681980515339464,
          0.00714503363531613,
          0.006542957248827961,
          0.005890576474687264,
          0.00520395509268104,
          0.0045000000000000005,
          0.0037960449073189606,
          0.0031094235253127374,
          0.00245704275117204,
          0.0018549663646838716,
          0.0013180194846605367,
          0.0008594235253127371,
          0.000490470641152345,
          0.00022024567667180912,
          0.000055402467321880536,
          0
         ]
        },
        {
         "mode": "lines+markers",
         "name": "DebertaV2Layer_1_decay",
         "type": "scatter",
         "x": [
          0,
          1,
          2,
          3,
          4,
          5,
          6,
          7,
          8,
          9,
          10,
          11,
          12,
          13,
          14,
          15,
          16,
          17,
          18,
          19,
          20
         ],
         "y": [
          0.008100000000000001,
          0.00805013777941031,
          0.007901778890995373,
          0.007658576422962891,
          0.007326518827218538,
          0.0069137824638055186,
          0.006430530271784517,
          0.005888661523945165,
          0.005301518827218538,
          0.004683559583412936,
          0.004050000000000001,
          0.003416440416587065,
          0.002798481172781464,
          0.002211338476054836,
          0.0016694697282154845,
          0.001186217536194483,
          0.0007734811727814634,
          0.0004414235770371105,
          0.00019822110900462824,
          0.000049862220589692486,
          0
         ]
        },
        {
         "mode": "lines+markers",
         "name": "DebertaV2Layer_1_no_decay",
         "type": "scatter",
         "x": [
          0,
          1,
          2,
          3,
          4,
          5,
          6,
          7,
          8,
          9,
          10,
          11,
          12,
          13,
          14,
          15,
          16,
          17,
          18,
          19,
          20
         ],
         "y": [
          0.008100000000000001,
          0.00805013777941031,
          0.007901778890995373,
          0.007658576422962891,
          0.007326518827218538,
          0.0069137824638055186,
          0.006430530271784517,
          0.005888661523945165,
          0.005301518827218538,
          0.004683559583412936,
          0.004050000000000001,
          0.003416440416587065,
          0.002798481172781464,
          0.002211338476054836,
          0.0016694697282154845,
          0.001186217536194483,
          0.0007734811727814634,
          0.0004414235770371105,
          0.00019822110900462824,
          0.000049862220589692486,
          0
         ]
        },
        {
         "mode": "lines+markers",
         "name": "DebertaV2Layer_2_decay",
         "type": "scatter",
         "x": [
          0,
          1,
          2,
          3,
          4,
          5,
          6,
          7,
          8,
          9,
          10,
          11,
          12,
          13,
          14,
          15,
          16,
          17,
          18,
          19,
          20
         ],
         "y": [
          0.007290000000000001,
          0.007245124001469278,
          0.007111601001895836,
          0.006892718780666602,
          0.006593866944496684,
          0.006222404217424967,
          0.0057874772446060655,
          0.005299795371550649,
          0.004771366944496684,
          0.004215203625071643,
          0.0036450000000000007,
          0.003074796374928358,
          0.0025186330555033174,
          0.0019902046284493526,
          0.001502522755393936,
          0.0010675957825750347,
          0.000696133055503317,
          0.0003972812193333995,
          0.00017839899810416542,
          0.00004487599853072324,
          0
         ]
        },
        {
         "mode": "lines+markers",
         "name": "DebertaV2Layer_2_no_decay",
         "type": "scatter",
         "x": [
          0,
          1,
          2,
          3,
          4,
          5,
          6,
          7,
          8,
          9,
          10,
          11,
          12,
          13,
          14,
          15,
          16,
          17,
          18,
          19,
          20
         ],
         "y": [
          0.007290000000000001,
          0.007245124001469278,
          0.007111601001895836,
          0.006892718780666602,
          0.006593866944496684,
          0.006222404217424967,
          0.0057874772446060655,
          0.005299795371550649,
          0.004771366944496684,
          0.004215203625071643,
          0.0036450000000000007,
          0.003074796374928358,
          0.0025186330555033174,
          0.0019902046284493526,
          0.001502522755393936,
          0.0010675957825750347,
          0.000696133055503317,
          0.0003972812193333995,
          0.00017839899810416542,
          0.00004487599853072324,
          0
         ]
        },
        {
         "mode": "lines+markers",
         "name": "DebertaV2Layer_3_decay",
         "type": "scatter",
         "x": [
          0,
          1,
          2,
          3,
          4,
          5,
          6,
          7,
          8,
          9,
          10,
          11,
          12,
          13,
          14,
          15,
          16,
          17,
          18,
          19,
          20
         ],
         "y": [
          0.006561000000000002,
          0.006520611601322351,
          0.006400440901706253,
          0.006203446902599942,
          0.005934480250047017,
          0.0056001637956824704,
          0.005208729520145459,
          0.004769815834395584,
          0.0042942302500470165,
          0.003793683262564479,
          0.003280500000000001,
          0.002767316737435523,
          0.0022667697499529856,
          0.0017911841656044175,
          0.0013522704798545426,
          0.0009608362043175313,
          0.0006265197499529854,
          0.00035755309740005957,
          0.00016055909829374888,
          0.00004038839867765092,
          0
         ]
        },
        {
         "mode": "lines+markers",
         "name": "DebertaV2Layer_3_no_decay",
         "type": "scatter",
         "x": [
          0,
          1,
          2,
          3,
          4,
          5,
          6,
          7,
          8,
          9,
          10,
          11,
          12,
          13,
          14,
          15,
          16,
          17,
          18,
          19,
          20
         ],
         "y": [
          0.006561000000000002,
          0.006520611601322351,
          0.006400440901706253,
          0.006203446902599942,
          0.005934480250047017,
          0.0056001637956824704,
          0.005208729520145459,
          0.004769815834395584,
          0.0042942302500470165,
          0.003793683262564479,
          0.003280500000000001,
          0.002767316737435523,
          0.0022667697499529856,
          0.0017911841656044175,
          0.0013522704798545426,
          0.0009608362043175313,
          0.0006265197499529854,
          0.00035755309740005957,
          0.00016055909829374888,
          0.00004038839867765092,
          0
         ]
        },
        {
         "mode": "lines+markers",
         "name": "DebertaV2Layer_4_decay",
         "type": "scatter",
         "x": [
          0,
          1,
          2,
          3,
          4,
          5,
          6,
          7,
          8,
          9,
          10,
          11,
          12,
          13,
          14,
          15,
          16,
          17,
          18,
          19,
          20
         ],
         "y": [
          0.005904900000000002,
          0.005868550441190117,
          0.005760396811535629,
          0.005583102212339948,
          0.005341032225042315,
          0.005040147416114224,
          0.004687856568130914,
          0.0042928342509560265,
          0.0038648072250423147,
          0.003414314936308031,
          0.002952450000000001,
          0.0024905850636919706,
          0.0020400927749576873,
          0.0016120657490439757,
          0.0012170434318690884,
          0.0008647525838857783,
          0.0005638677749576869,
          0.00032179778766005363,
          0.000144503188464374,
          0.00003634955880988583,
          0
         ]
        },
        {
         "mode": "lines+markers",
         "name": "DebertaV2Layer_4_no_decay",
         "type": "scatter",
         "x": [
          0,
          1,
          2,
          3,
          4,
          5,
          6,
          7,
          8,
          9,
          10,
          11,
          12,
          13,
          14,
          15,
          16,
          17,
          18,
          19,
          20
         ],
         "y": [
          0.005904900000000002,
          0.005868550441190117,
          0.005760396811535629,
          0.005583102212339948,
          0.005341032225042315,
          0.005040147416114224,
          0.004687856568130914,
          0.0042928342509560265,
          0.0038648072250423147,
          0.003414314936308031,
          0.002952450000000001,
          0.0024905850636919706,
          0.0020400927749576873,
          0.0016120657490439757,
          0.0012170434318690884,
          0.0008647525838857783,
          0.0005638677749576869,
          0.00032179778766005363,
          0.000144503188464374,
          0.00003634955880988583,
          0
         ]
        },
        {
         "mode": "lines+markers",
         "name": "DebertaV2Layer_5_decay",
         "type": "scatter",
         "x": [
          0,
          1,
          2,
          3,
          4,
          5,
          6,
          7,
          8,
          9,
          10,
          11,
          12,
          13,
          14,
          15,
          16,
          17,
          18,
          19,
          20
         ],
         "y": [
          0.005314410000000002,
          0.0052816953970711055,
          0.005184357130382066,
          0.005024791991105954,
          0.004806929002538084,
          0.004536132674502802,
          0.0042190709113178225,
          0.0038635508258604238,
          0.0034783265025380835,
          0.003072883442677228,
          0.002657205000000001,
          0.0022415265573227736,
          0.0018360834974619187,
          0.0014508591741395783,
          0.0010953390886821797,
          0.0007782773254972004,
          0.0005074809974619182,
          0.00028961800889404826,
          0.0001300528696179366,
          0.00003271460292889725,
          0
         ]
        },
        {
         "mode": "lines+markers",
         "name": "DebertaV2Layer_5_no_decay",
         "type": "scatter",
         "x": [
          0,
          1,
          2,
          3,
          4,
          5,
          6,
          7,
          8,
          9,
          10,
          11,
          12,
          13,
          14,
          15,
          16,
          17,
          18,
          19,
          20
         ],
         "y": [
          0.005314410000000002,
          0.0052816953970711055,
          0.005184357130382066,
          0.005024791991105954,
          0.004806929002538084,
          0.004536132674502802,
          0.0042190709113178225,
          0.0038635508258604238,
          0.0034783265025380835,
          0.003072883442677228,
          0.002657205000000001,
          0.0022415265573227736,
          0.0018360834974619187,
          0.0014508591741395783,
          0.0010953390886821797,
          0.0007782773254972004,
          0.0005074809974619182,
          0.00028961800889404826,
          0.0001300528696179366,
          0.00003271460292889725,
          0
         ]
        },
        {
         "mode": "lines+markers",
         "name": "DebertaV2Layer_6_decay",
         "type": "scatter",
         "x": [
          0,
          1,
          2,
          3,
          4,
          5,
          6,
          7,
          8,
          9,
          10,
          11,
          12,
          13,
          14,
          15,
          16,
          17,
          18,
          19,
          20
         ],
         "y": [
          0.004782969000000002,
          0.0047535258573639955,
          0.00466592141734386,
          0.004522312791995359,
          0.004326236102284276,
          0.004082519407052522,
          0.0037971638201860407,
          0.003477195743274382,
          0.0031304938522842755,
          0.0027655950984095054,
          0.002391484500000001,
          0.0020173739015904965,
          0.001652475147715727,
          0.0013057732567256205,
          0.0009858051798139619,
          0.0007004495929474805,
          0.00045673289771572647,
          0.00026065620800464346,
          0.00011704758265614296,
          0.000029443142636007527,
          0
         ]
        },
        {
         "mode": "lines+markers",
         "name": "DebertaV2Layer_6_no_decay",
         "type": "scatter",
         "x": [
          0,
          1,
          2,
          3,
          4,
          5,
          6,
          7,
          8,
          9,
          10,
          11,
          12,
          13,
          14,
          15,
          16,
          17,
          18,
          19,
          20
         ],
         "y": [
          0.004782969000000002,
          0.0047535258573639955,
          0.00466592141734386,
          0.004522312791995359,
          0.004326236102284276,
          0.004082519407052522,
          0.0037971638201860407,
          0.003477195743274382,
          0.0031304938522842755,
          0.0027655950984095054,
          0.002391484500000001,
          0.0020173739015904965,
          0.001652475147715727,
          0.0013057732567256205,
          0.0009858051798139619,
          0.0007004495929474805,
          0.00045673289771572647,
          0.00026065620800464346,
          0.00011704758265614296,
          0.000029443142636007527,
          0
         ]
        },
        {
         "mode": "lines+markers",
         "name": "DebertaV2Layer_7_decay",
         "type": "scatter",
         "x": [
          0,
          1,
          2,
          3,
          4,
          5,
          6,
          7,
          8,
          9,
          10,
          11,
          12,
          13,
          14,
          15,
          16,
          17,
          18,
          19,
          20
         ],
         "y": [
          0.004304672100000002,
          0.004278173271627595,
          0.0041993292756094735,
          0.004070081512795823,
          0.0038936124920558486,
          0.0036742674663472696,
          0.003417447438167437,
          0.0031294761689469436,
          0.002817444467055848,
          0.002489035588568555,
          0.002152336050000001,
          0.001815636511431447,
          0.0014872276329441544,
          0.0011751959310530584,
          0.0008872246618325656,
          0.0006304046336527324,
          0.0004110596079441538,
          0.00023459058720417912,
          0.00010534282439052867,
          0.000026498828372406774,
          0
         ]
        },
        {
         "mode": "lines+markers",
         "name": "DebertaV2Layer_7_no_decay",
         "type": "scatter",
         "x": [
          0,
          1,
          2,
          3,
          4,
          5,
          6,
          7,
          8,
          9,
          10,
          11,
          12,
          13,
          14,
          15,
          16,
          17,
          18,
          19,
          20
         ],
         "y": [
          0.004304672100000002,
          0.004278173271627595,
          0.0041993292756094735,
          0.004070081512795823,
          0.0038936124920558486,
          0.0036742674663472696,
          0.003417447438167437,
          0.0031294761689469436,
          0.002817444467055848,
          0.002489035588568555,
          0.002152336050000001,
          0.001815636511431447,
          0.0014872276329441544,
          0.0011751959310530584,
          0.0008872246618325656,
          0.0006304046336527324,
          0.0004110596079441538,
          0.00023459058720417912,
          0.00010534282439052867,
          0.000026498828372406774,
          0
         ]
        },
        {
         "mode": "lines+markers",
         "name": "DebertaV2Layer_8_decay",
         "type": "scatter",
         "x": [
          0,
          1,
          2,
          3,
          4,
          5,
          6,
          7,
          8,
          9,
          10,
          11,
          12,
          13,
          14,
          15,
          16,
          17,
          18,
          19,
          20
         ],
         "y": [
          0.003874204890000002,
          0.0038503559444648364,
          0.0037793963480485266,
          0.0036630733615162408,
          0.0035042512428502637,
          0.0033068407197125427,
          0.0030757026943506933,
          0.0028165285520522494,
          0.0025357000203502632,
          0.0022401320297117,
          0.001937102445000001,
          0.0016340728602883023,
          0.001338504869649739,
          0.0010576763379477527,
          0.0007985021956493091,
          0.0005673641702874593,
          0.0003699536471497385,
          0.00021113152848376124,
          0.00009480854195147581,
          0.000023848945535166097,
          0
         ]
        },
        {
         "mode": "lines+markers",
         "name": "DebertaV2Layer_8_no_decay",
         "type": "scatter",
         "x": [
          0,
          1,
          2,
          3,
          4,
          5,
          6,
          7,
          8,
          9,
          10,
          11,
          12,
          13,
          14,
          15,
          16,
          17,
          18,
          19,
          20
         ],
         "y": [
          0.003874204890000002,
          0.0038503559444648364,
          0.0037793963480485266,
          0.0036630733615162408,
          0.0035042512428502637,
          0.0033068407197125427,
          0.0030757026943506933,
          0.0028165285520522494,
          0.0025357000203502632,
          0.0022401320297117,
          0.001937102445000001,
          0.0016340728602883023,
          0.001338504869649739,
          0.0010576763379477527,
          0.0007985021956493091,
          0.0005673641702874593,
          0.0003699536471497385,
          0.00021113152848376124,
          0.00009480854195147581,
          0.000023848945535166097,
          0
         ]
        },
        {
         "mode": "lines+markers",
         "name": "DebertaV2Layer_9_decay",
         "type": "scatter",
         "x": [
          0,
          1,
          2,
          3,
          4,
          5,
          6,
          7,
          8,
          9,
          10,
          11,
          12,
          13,
          14,
          15,
          16,
          17,
          18,
          19,
          20
         ],
         "y": [
          0.003486784401000002,
          0.003465320350018353,
          0.003401456713243674,
          0.003296766025364617,
          0.0031538261185652377,
          0.0029761566477412888,
          0.002768132424915624,
          0.0025348756968470248,
          0.002282130018315237,
          0.0020161188267405297,
          0.001743392200500001,
          0.0014706655742594721,
          0.001204654382684765,
          0.0009519087041529775,
          0.0007186519760843782,
          0.0005106277532587134,
          0.0003329582824347646,
          0.00019001837563538512,
          0.00008532768775632822,
          0.000021464050981649488,
          0
         ]
        },
        {
         "mode": "lines+markers",
         "name": "DebertaV2Layer_9_no_decay",
         "type": "scatter",
         "x": [
          0,
          1,
          2,
          3,
          4,
          5,
          6,
          7,
          8,
          9,
          10,
          11,
          12,
          13,
          14,
          15,
          16,
          17,
          18,
          19,
          20
         ],
         "y": [
          0.003486784401000002,
          0.003465320350018353,
          0.003401456713243674,
          0.003296766025364617,
          0.0031538261185652377,
          0.0029761566477412888,
          0.002768132424915624,
          0.0025348756968470248,
          0.002282130018315237,
          0.0020161188267405297,
          0.001743392200500001,
          0.0014706655742594721,
          0.001204654382684765,
          0.0009519087041529775,
          0.0007186519760843782,
          0.0005106277532587134,
          0.0003329582824347646,
          0.00019001837563538512,
          0.00008532768775632822,
          0.000021464050981649488,
          0
         ]
        },
        {
         "mode": "lines+markers",
         "name": "DebertaV2Layer_10_decay",
         "type": "scatter",
         "x": [
          0,
          1,
          2,
          3,
          4,
          5,
          6,
          7,
          8,
          9,
          10,
          11,
          12,
          13,
          14,
          15,
          16,
          17,
          18,
          19,
          20
         ],
         "y": [
          0.003138105960900002,
          0.0031187883150165176,
          0.0030613110419193067,
          0.0029670894228281553,
          0.002838443506708714,
          0.00267854098296716,
          0.0024913191824240616,
          0.002281388127162322,
          0.0020539170164837134,
          0.0018145069440664767,
          0.001569052980450001,
          0.001323599016833525,
          0.0010841889444162887,
          0.0008567178337376797,
          0.0006467867784759404,
          0.000459564977932842,
          0.00029966245419128817,
          0.00017101653807184662,
          0.00007679491898069541,
          0.000019317645883484542,
          0
         ]
        },
        {
         "mode": "lines+markers",
         "name": "DebertaV2Layer_10_no_decay",
         "type": "scatter",
         "x": [
          0,
          1,
          2,
          3,
          4,
          5,
          6,
          7,
          8,
          9,
          10,
          11,
          12,
          13,
          14,
          15,
          16,
          17,
          18,
          19,
          20
         ],
         "y": [
          0.003138105960900002,
          0.0031187883150165176,
          0.0030613110419193067,
          0.0029670894228281553,
          0.002838443506708714,
          0.00267854098296716,
          0.0024913191824240616,
          0.002281388127162322,
          0.0020539170164837134,
          0.0018145069440664767,
          0.001569052980450001,
          0.001323599016833525,
          0.0010841889444162887,
          0.0008567178337376797,
          0.0006467867784759404,
          0.000459564977932842,
          0.00029966245419128817,
          0.00017101653807184662,
          0.00007679491898069541,
          0.000019317645883484542,
          0
         ]
        },
        {
         "mode": "lines+markers",
         "name": "DebertaV2Layer_11_decay",
         "type": "scatter",
         "x": [
          0,
          1,
          2,
          3,
          4,
          5,
          6,
          7,
          8,
          9,
          10,
          11,
          12,
          13,
          14,
          15,
          16,
          17,
          18,
          19,
          20
         ],
         "y": [
          0.0028242953648100018,
          0.002806909483514866,
          0.002755179937727376,
          0.0026703804805453396,
          0.0025545991560378426,
          0.002410686884670444,
          0.0022421872641816554,
          0.00205324931444609,
          0.0018485253148353422,
          0.0016330562496598292,
          0.0014121476824050009,
          0.0011912391151501724,
          0.0009757700499746598,
          0.0007710460503639118,
          0.0005821081006283464,
          0.0004136084801395578,
          0.0002696962087721594,
          0.00015391488426466196,
          0.00006911542708262586,
          0.000017385881295136088,
          0
         ]
        },
        {
         "mode": "lines+markers",
         "name": "DebertaV2Layer_11_no_decay",
         "type": "scatter",
         "x": [
          0,
          1,
          2,
          3,
          4,
          5,
          6,
          7,
          8,
          9,
          10,
          11,
          12,
          13,
          14,
          15,
          16,
          17,
          18,
          19,
          20
         ],
         "y": [
          0.0028242953648100018,
          0.002806909483514866,
          0.002755179937727376,
          0.0026703804805453396,
          0.0025545991560378426,
          0.002410686884670444,
          0.0022421872641816554,
          0.00205324931444609,
          0.0018485253148353422,
          0.0016330562496598292,
          0.0014121476824050009,
          0.0011912391151501724,
          0.0009757700499746598,
          0.0007710460503639118,
          0.0005821081006283464,
          0.0004136084801395578,
          0.0002696962087721594,
          0.00015391488426466196,
          0.00006911542708262586,
          0.000017385881295136088,
          0
         ]
        },
        {
         "mode": "lines+markers",
         "name": "DebertaV2Embeddings_12_decay",
         "type": "scatter",
         "x": [
          0,
          1,
          2,
          3,
          4,
          5,
          6,
          7,
          8,
          9,
          10,
          11,
          12,
          13,
          14,
          15,
          16,
          17,
          18,
          19,
          20
         ],
         "y": [
          0.0025418658283290017,
          0.0025262185351633795,
          0.0024796619439546386,
          0.002403342432490806,
          0.0022991392404340585,
          0.0021696181962033998,
          0.00201796853776349,
          0.0018479243830014811,
          0.001663672783351808,
          0.0014697506246938463,
          0.0012709329141645008,
          0.0010721152036351552,
          0.0008781930449771938,
          0.0006939414453275206,
          0.0005238972905655117,
          0.00037224763212560205,
          0.00024272658789494344,
          0.00013852339583819576,
          0.00006220388437436328,
          0.00001564729316562248,
          0
         ]
        },
        {
         "mode": "lines+markers",
         "name": "DebertaV2Embeddings_12_no_decay",
         "type": "scatter",
         "x": [
          0,
          1,
          2,
          3,
          4,
          5,
          6,
          7,
          8,
          9,
          10,
          11,
          12,
          13,
          14,
          15,
          16,
          17,
          18,
          19,
          20
         ],
         "y": [
          0.0025418658283290017,
          0.0025262185351633795,
          0.0024796619439546386,
          0.002403342432490806,
          0.0022991392404340585,
          0.0021696181962033998,
          0.00201796853776349,
          0.0018479243830014811,
          0.001663672783351808,
          0.0014697506246938463,
          0.0012709329141645008,
          0.0010721152036351552,
          0.0008781930449771938,
          0.0006939414453275206,
          0.0005238972905655117,
          0.00037224763212560205,
          0.00024272658789494344,
          0.00013852339583819576,
          0.00006220388437436328,
          0.00001564729316562248,
          0
         ]
        }
       ],
       "layout": {
        "template": {
         "data": {
          "bar": [
           {
            "error_x": {
             "color": "#2a3f5f"
            },
            "error_y": {
             "color": "#2a3f5f"
            },
            "marker": {
             "line": {
              "color": "white",
              "width": 0.5
             },
             "pattern": {
              "fillmode": "overlay",
              "size": 10,
              "solidity": 0.2
             }
            },
            "type": "bar"
           }
          ],
          "barpolar": [
           {
            "marker": {
             "line": {
              "color": "white",
              "width": 0.5
             },
             "pattern": {
              "fillmode": "overlay",
              "size": 10,
              "solidity": 0.2
             }
            },
            "type": "barpolar"
           }
          ],
          "carpet": [
           {
            "aaxis": {
             "endlinecolor": "#2a3f5f",
             "gridcolor": "#C8D4E3",
             "linecolor": "#C8D4E3",
             "minorgridcolor": "#C8D4E3",
             "startlinecolor": "#2a3f5f"
            },
            "baxis": {
             "endlinecolor": "#2a3f5f",
             "gridcolor": "#C8D4E3",
             "linecolor": "#C8D4E3",
             "minorgridcolor": "#C8D4E3",
             "startlinecolor": "#2a3f5f"
            },
            "type": "carpet"
           }
          ],
          "choropleth": [
           {
            "colorbar": {
             "outlinewidth": 0,
             "ticks": ""
            },
            "type": "choropleth"
           }
          ],
          "contour": [
           {
            "colorbar": {
             "outlinewidth": 0,
             "ticks": ""
            },
            "colorscale": [
             [
              0,
              "#0d0887"
             ],
             [
              0.1111111111111111,
              "#46039f"
             ],
             [
              0.2222222222222222,
              "#7201a8"
             ],
             [
              0.3333333333333333,
              "#9c179e"
             ],
             [
              0.4444444444444444,
              "#bd3786"
             ],
             [
              0.5555555555555556,
              "#d8576b"
             ],
             [
              0.6666666666666666,
              "#ed7953"
             ],
             [
              0.7777777777777778,
              "#fb9f3a"
             ],
             [
              0.8888888888888888,
              "#fdca26"
             ],
             [
              1,
              "#f0f921"
             ]
            ],
            "type": "contour"
           }
          ],
          "contourcarpet": [
           {
            "colorbar": {
             "outlinewidth": 0,
             "ticks": ""
            },
            "type": "contourcarpet"
           }
          ],
          "heatmap": [
           {
            "colorbar": {
             "outlinewidth": 0,
             "ticks": ""
            },
            "colorscale": [
             [
              0,
              "#0d0887"
             ],
             [
              0.1111111111111111,
              "#46039f"
             ],
             [
              0.2222222222222222,
              "#7201a8"
             ],
             [
              0.3333333333333333,
              "#9c179e"
             ],
             [
              0.4444444444444444,
              "#bd3786"
             ],
             [
              0.5555555555555556,
              "#d8576b"
             ],
             [
              0.6666666666666666,
              "#ed7953"
             ],
             [
              0.7777777777777778,
              "#fb9f3a"
             ],
             [
              0.8888888888888888,
              "#fdca26"
             ],
             [
              1,
              "#f0f921"
             ]
            ],
            "type": "heatmap"
           }
          ],
          "heatmapgl": [
           {
            "colorbar": {
             "outlinewidth": 0,
             "ticks": ""
            },
            "colorscale": [
             [
              0,
              "#0d0887"
             ],
             [
              0.1111111111111111,
              "#46039f"
             ],
             [
              0.2222222222222222,
              "#7201a8"
             ],
             [
              0.3333333333333333,
              "#9c179e"
             ],
             [
              0.4444444444444444,
              "#bd3786"
             ],
             [
              0.5555555555555556,
              "#d8576b"
             ],
             [
              0.6666666666666666,
              "#ed7953"
             ],
             [
              0.7777777777777778,
              "#fb9f3a"
             ],
             [
              0.8888888888888888,
              "#fdca26"
             ],
             [
              1,
              "#f0f921"
             ]
            ],
            "type": "heatmapgl"
           }
          ],
          "histogram": [
           {
            "marker": {
             "pattern": {
              "fillmode": "overlay",
              "size": 10,
              "solidity": 0.2
             }
            },
            "type": "histogram"
           }
          ],
          "histogram2d": [
           {
            "colorbar": {
             "outlinewidth": 0,
             "ticks": ""
            },
            "colorscale": [
             [
              0,
              "#0d0887"
             ],
             [
              0.1111111111111111,
              "#46039f"
             ],
             [
              0.2222222222222222,
              "#7201a8"
             ],
             [
              0.3333333333333333,
              "#9c179e"
             ],
             [
              0.4444444444444444,
              "#bd3786"
             ],
             [
              0.5555555555555556,
              "#d8576b"
             ],
             [
              0.6666666666666666,
              "#ed7953"
             ],
             [
              0.7777777777777778,
              "#fb9f3a"
             ],
             [
              0.8888888888888888,
              "#fdca26"
             ],
             [
              1,
              "#f0f921"
             ]
            ],
            "type": "histogram2d"
           }
          ],
          "histogram2dcontour": [
           {
            "colorbar": {
             "outlinewidth": 0,
             "ticks": ""
            },
            "colorscale": [
             [
              0,
              "#0d0887"
             ],
             [
              0.1111111111111111,
              "#46039f"
             ],
             [
              0.2222222222222222,
              "#7201a8"
             ],
             [
              0.3333333333333333,
              "#9c179e"
             ],
             [
              0.4444444444444444,
              "#bd3786"
             ],
             [
              0.5555555555555556,
              "#d8576b"
             ],
             [
              0.6666666666666666,
              "#ed7953"
             ],
             [
              0.7777777777777778,
              "#fb9f3a"
             ],
             [
              0.8888888888888888,
              "#fdca26"
             ],
             [
              1,
              "#f0f921"
             ]
            ],
            "type": "histogram2dcontour"
           }
          ],
          "mesh3d": [
           {
            "colorbar": {
             "outlinewidth": 0,
             "ticks": ""
            },
            "type": "mesh3d"
           }
          ],
          "parcoords": [
           {
            "line": {
             "colorbar": {
              "outlinewidth": 0,
              "ticks": ""
             }
            },
            "type": "parcoords"
           }
          ],
          "pie": [
           {
            "automargin": true,
            "type": "pie"
           }
          ],
          "scatter": [
           {
            "fillpattern": {
             "fillmode": "overlay",
             "size": 10,
             "solidity": 0.2
            },
            "type": "scatter"
           }
          ],
          "scatter3d": [
           {
            "line": {
             "colorbar": {
              "outlinewidth": 0,
              "ticks": ""
             }
            },
            "marker": {
             "colorbar": {
              "outlinewidth": 0,
              "ticks": ""
             }
            },
            "type": "scatter3d"
           }
          ],
          "scattercarpet": [
           {
            "marker": {
             "colorbar": {
              "outlinewidth": 0,
              "ticks": ""
             }
            },
            "type": "scattercarpet"
           }
          ],
          "scattergeo": [
           {
            "marker": {
             "colorbar": {
              "outlinewidth": 0,
              "ticks": ""
             }
            },
            "type": "scattergeo"
           }
          ],
          "scattergl": [
           {
            "marker": {
             "colorbar": {
              "outlinewidth": 0,
              "ticks": ""
             }
            },
            "type": "scattergl"
           }
          ],
          "scattermapbox": [
           {
            "marker": {
             "colorbar": {
              "outlinewidth": 0,
              "ticks": ""
             }
            },
            "type": "scattermapbox"
           }
          ],
          "scatterpolar": [
           {
            "marker": {
             "colorbar": {
              "outlinewidth": 0,
              "ticks": ""
             }
            },
            "type": "scatterpolar"
           }
          ],
          "scatterpolargl": [
           {
            "marker": {
             "colorbar": {
              "outlinewidth": 0,
              "ticks": ""
             }
            },
            "type": "scatterpolargl"
           }
          ],
          "scatterternary": [
           {
            "marker": {
             "colorbar": {
              "outlinewidth": 0,
              "ticks": ""
             }
            },
            "type": "scatterternary"
           }
          ],
          "surface": [
           {
            "colorbar": {
             "outlinewidth": 0,
             "ticks": ""
            },
            "colorscale": [
             [
              0,
              "#0d0887"
             ],
             [
              0.1111111111111111,
              "#46039f"
             ],
             [
              0.2222222222222222,
              "#7201a8"
             ],
             [
              0.3333333333333333,
              "#9c179e"
             ],
             [
              0.4444444444444444,
              "#bd3786"
             ],
             [
              0.5555555555555556,
              "#d8576b"
             ],
             [
              0.6666666666666666,
              "#ed7953"
             ],
             [
              0.7777777777777778,
              "#fb9f3a"
             ],
             [
              0.8888888888888888,
              "#fdca26"
             ],
             [
              1,
              "#f0f921"
             ]
            ],
            "type": "surface"
           }
          ],
          "table": [
           {
            "cells": {
             "fill": {
              "color": "#EBF0F8"
             },
             "line": {
              "color": "white"
             }
            },
            "header": {
             "fill": {
              "color": "#C8D4E3"
             },
             "line": {
              "color": "white"
             }
            },
            "type": "table"
           }
          ]
         },
         "layout": {
          "annotationdefaults": {
           "arrowcolor": "#2a3f5f",
           "arrowhead": 0,
           "arrowwidth": 1
          },
          "autotypenumbers": "strict",
          "coloraxis": {
           "colorbar": {
            "outlinewidth": 0,
            "ticks": ""
           }
          },
          "colorscale": {
           "diverging": [
            [
             0,
             "#8e0152"
            ],
            [
             0.1,
             "#c51b7d"
            ],
            [
             0.2,
             "#de77ae"
            ],
            [
             0.3,
             "#f1b6da"
            ],
            [
             0.4,
             "#fde0ef"
            ],
            [
             0.5,
             "#f7f7f7"
            ],
            [
             0.6,
             "#e6f5d0"
            ],
            [
             0.7,
             "#b8e186"
            ],
            [
             0.8,
             "#7fbc41"
            ],
            [
             0.9,
             "#4d9221"
            ],
            [
             1,
             "#276419"
            ]
           ],
           "sequential": [
            [
             0,
             "#0d0887"
            ],
            [
             0.1111111111111111,
             "#46039f"
            ],
            [
             0.2222222222222222,
             "#7201a8"
            ],
            [
             0.3333333333333333,
             "#9c179e"
            ],
            [
             0.4444444444444444,
             "#bd3786"
            ],
            [
             0.5555555555555556,
             "#d8576b"
            ],
            [
             0.6666666666666666,
             "#ed7953"
            ],
            [
             0.7777777777777778,
             "#fb9f3a"
            ],
            [
             0.8888888888888888,
             "#fdca26"
            ],
            [
             1,
             "#f0f921"
            ]
           ],
           "sequentialminus": [
            [
             0,
             "#0d0887"
            ],
            [
             0.1111111111111111,
             "#46039f"
            ],
            [
             0.2222222222222222,
             "#7201a8"
            ],
            [
             0.3333333333333333,
             "#9c179e"
            ],
            [
             0.4444444444444444,
             "#bd3786"
            ],
            [
             0.5555555555555556,
             "#d8576b"
            ],
            [
             0.6666666666666666,
             "#ed7953"
            ],
            [
             0.7777777777777778,
             "#fb9f3a"
            ],
            [
             0.8888888888888888,
             "#fdca26"
            ],
            [
             1,
             "#f0f921"
            ]
           ]
          },
          "colorway": [
           "#636efa",
           "#EF553B",
           "#00cc96",
           "#ab63fa",
           "#FFA15A",
           "#19d3f3",
           "#FF6692",
           "#B6E880",
           "#FF97FF",
           "#FECB52"
          ],
          "font": {
           "color": "#2a3f5f"
          },
          "geo": {
           "bgcolor": "white",
           "lakecolor": "white",
           "landcolor": "white",
           "showlakes": true,
           "showland": true,
           "subunitcolor": "#C8D4E3"
          },
          "hoverlabel": {
           "align": "left"
          },
          "hovermode": "closest",
          "mapbox": {
           "style": "light"
          },
          "paper_bgcolor": "white",
          "plot_bgcolor": "white",
          "polar": {
           "angularaxis": {
            "gridcolor": "#EBF0F8",
            "linecolor": "#EBF0F8",
            "ticks": ""
           },
           "bgcolor": "white",
           "radialaxis": {
            "gridcolor": "#EBF0F8",
            "linecolor": "#EBF0F8",
            "ticks": ""
           }
          },
          "scene": {
           "xaxis": {
            "backgroundcolor": "white",
            "gridcolor": "#DFE8F3",
            "gridwidth": 2,
            "linecolor": "#EBF0F8",
            "showbackground": true,
            "ticks": "",
            "zerolinecolor": "#EBF0F8"
           },
           "yaxis": {
            "backgroundcolor": "white",
            "gridcolor": "#DFE8F3",
            "gridwidth": 2,
            "linecolor": "#EBF0F8",
            "showbackground": true,
            "ticks": "",
            "zerolinecolor": "#EBF0F8"
           },
           "zaxis": {
            "backgroundcolor": "white",
            "gridcolor": "#DFE8F3",
            "gridwidth": 2,
            "linecolor": "#EBF0F8",
            "showbackground": true,
            "ticks": "",
            "zerolinecolor": "#EBF0F8"
           }
          },
          "shapedefaults": {
           "line": {
            "color": "#2a3f5f"
           }
          },
          "ternary": {
           "aaxis": {
            "gridcolor": "#DFE8F3",
            "linecolor": "#A2B1C6",
            "ticks": ""
           },
           "baxis": {
            "gridcolor": "#DFE8F3",
            "linecolor": "#A2B1C6",
            "ticks": ""
           },
           "bgcolor": "white",
           "caxis": {
            "gridcolor": "#DFE8F3",
            "linecolor": "#A2B1C6",
            "ticks": ""
           }
          },
          "title": {
           "x": 0.05
          },
          "xaxis": {
           "automargin": true,
           "gridcolor": "#EBF0F8",
           "linecolor": "#EBF0F8",
           "ticks": "",
           "title": {
            "standoff": 15
           },
           "zerolinecolor": "#EBF0F8",
           "zerolinewidth": 2
          },
          "yaxis": {
           "automargin": true,
           "gridcolor": "#EBF0F8",
           "linecolor": "#EBF0F8",
           "ticks": "",
           "title": {
            "standoff": 15
           },
           "zerolinecolor": "#EBF0F8",
           "zerolinewidth": 2
          }
         }
        },
        "title": {
         "text": "Learning Rate per Epoch by Parameter Group"
        },
        "xaxis": {
         "title": {
          "text": "Epoch"
         }
        },
        "yaxis": {
         "title": {
          "text": "Learning Rate"
         }
        }
       }
      },
      "text/html": [
       "<div>                            <div id=\"1ea38b62-183f-4b50-8f7a-a79c84373e24\" class=\"plotly-graph-div\" style=\"height:525px; width:100%;\"></div>            <script type=\"text/javascript\">                require([\"plotly\"], function(Plotly) {                    window.PLOTLYENV=window.PLOTLYENV || {};                                    if (document.getElementById(\"1ea38b62-183f-4b50-8f7a-a79c84373e24\")) {                    Plotly.newPlot(                        \"1ea38b62-183f-4b50-8f7a-a79c84373e24\",                        [{\"mode\":\"lines+markers\",\"name\":\"pooler_no_decay\",\"x\":[0,1,2,3,4,5,6,7,8,9,10,11,12,13,14,15,16,17,18,19,20],\"y\":[0.01,0.009938441702975689,0.009755282581475769,0.00945503262094184,0.009045084971874737,0.008535533905932738,0.007938926261462366,0.007269952498697734,0.006545084971874737,0.0057821723252011546,0.005,0.004217827674798845,0.003454915028125263,0.0027300475013022664,0.0020610737385376348,0.0014644660940672626,0.0009549150281252633,0.0005449673790581611,0.00024471741852423234,0.0000615582970243117,0.0],\"type\":\"scatter\"},{\"mode\":\"lines+markers\",\"name\":\"pooler_decay\",\"x\":[0,1,2,3,4,5,6,7,8,9,10,11,12,13,14,15,16,17,18,19,20],\"y\":[0.01,0.009938441702975689,0.009755282581475769,0.00945503262094184,0.009045084971874737,0.008535533905932738,0.007938926261462366,0.007269952498697734,0.006545084971874737,0.0057821723252011546,0.005,0.004217827674798845,0.003454915028125263,0.0027300475013022664,0.0020610737385376348,0.0014644660940672626,0.0009549150281252633,0.0005449673790581611,0.00024471741852423234,0.0000615582970243117,0.0],\"type\":\"scatter\"},{\"mode\":\"lines+markers\",\"name\":\"head_no_decay\",\"x\":[0,1,2,3,4,5,6,7,8,9,10,11,12,13,14,15,16,17,18,19,20],\"y\":[0.01,0.009938441702975689,0.009755282581475769,0.00945503262094184,0.009045084971874737,0.008535533905932738,0.007938926261462366,0.007269952498697734,0.006545084971874737,0.0057821723252011546,0.005,0.004217827674798845,0.003454915028125263,0.0027300475013022664,0.0020610737385376348,0.0014644660940672626,0.0009549150281252633,0.0005449673790581611,0.00024471741852423234,0.0000615582970243117,0.0],\"type\":\"scatter\"},{\"mode\":\"lines+markers\",\"name\":\"head_decay\",\"x\":[0,1,2,3,4,5,6,7,8,9,10,11,12,13,14,15,16,17,18,19,20],\"y\":[0.01,0.009938441702975689,0.009755282581475769,0.00945503262094184,0.009045084971874737,0.008535533905932738,0.007938926261462366,0.007269952498697734,0.006545084971874737,0.0057821723252011546,0.005,0.004217827674798845,0.003454915028125263,0.0027300475013022664,0.0020610737385376348,0.0014644660940672626,0.0009549150281252633,0.0005449673790581611,0.00024471741852423234,0.0000615582970243117,0.0],\"type\":\"scatter\"},{\"mode\":\"lines+markers\",\"name\":\"DebertaV2Layer_0_decay\",\"x\":[0,1,2,3,4,5,6,7,8,9,10,11,12,13,14,15,16,17,18,19,20],\"y\":[0.009000000000000001,0.00894459753267812,0.008779754323328193,0.008509529358847657,0.008140576474687265,0.007681980515339464,0.00714503363531613,0.006542957248827961,0.005890576474687264,0.00520395509268104,0.0045000000000000005,0.0037960449073189606,0.0031094235253127374,0.00245704275117204,0.0018549663646838716,0.0013180194846605367,0.0008594235253127371,0.000490470641152345,0.00022024567667180912,0.000055402467321880536,0.0],\"type\":\"scatter\"},{\"mode\":\"lines+markers\",\"name\":\"DebertaV2Layer_0_no_decay\",\"x\":[0,1,2,3,4,5,6,7,8,9,10,11,12,13,14,15,16,17,18,19,20],\"y\":[0.009000000000000001,0.00894459753267812,0.008779754323328193,0.008509529358847657,0.008140576474687265,0.007681980515339464,0.00714503363531613,0.006542957248827961,0.005890576474687264,0.00520395509268104,0.0045000000000000005,0.0037960449073189606,0.0031094235253127374,0.00245704275117204,0.0018549663646838716,0.0013180194846605367,0.0008594235253127371,0.000490470641152345,0.00022024567667180912,0.000055402467321880536,0.0],\"type\":\"scatter\"},{\"mode\":\"lines+markers\",\"name\":\"DebertaV2Layer_1_decay\",\"x\":[0,1,2,3,4,5,6,7,8,9,10,11,12,13,14,15,16,17,18,19,20],\"y\":[0.008100000000000001,0.00805013777941031,0.007901778890995373,0.007658576422962891,0.007326518827218538,0.0069137824638055186,0.006430530271784517,0.005888661523945165,0.005301518827218538,0.004683559583412936,0.004050000000000001,0.003416440416587065,0.002798481172781464,0.002211338476054836,0.0016694697282154845,0.001186217536194483,0.0007734811727814634,0.0004414235770371105,0.00019822110900462824,0.000049862220589692486,0.0],\"type\":\"scatter\"},{\"mode\":\"lines+markers\",\"name\":\"DebertaV2Layer_1_no_decay\",\"x\":[0,1,2,3,4,5,6,7,8,9,10,11,12,13,14,15,16,17,18,19,20],\"y\":[0.008100000000000001,0.00805013777941031,0.007901778890995373,0.007658576422962891,0.007326518827218538,0.0069137824638055186,0.006430530271784517,0.005888661523945165,0.005301518827218538,0.004683559583412936,0.004050000000000001,0.003416440416587065,0.002798481172781464,0.002211338476054836,0.0016694697282154845,0.001186217536194483,0.0007734811727814634,0.0004414235770371105,0.00019822110900462824,0.000049862220589692486,0.0],\"type\":\"scatter\"},{\"mode\":\"lines+markers\",\"name\":\"DebertaV2Layer_2_decay\",\"x\":[0,1,2,3,4,5,6,7,8,9,10,11,12,13,14,15,16,17,18,19,20],\"y\":[0.007290000000000001,0.007245124001469278,0.007111601001895836,0.006892718780666602,0.006593866944496684,0.006222404217424967,0.0057874772446060655,0.005299795371550649,0.004771366944496684,0.004215203625071643,0.0036450000000000007,0.003074796374928358,0.0025186330555033174,0.0019902046284493526,0.001502522755393936,0.0010675957825750347,0.000696133055503317,0.0003972812193333995,0.00017839899810416542,0.00004487599853072324,0.0],\"type\":\"scatter\"},{\"mode\":\"lines+markers\",\"name\":\"DebertaV2Layer_2_no_decay\",\"x\":[0,1,2,3,4,5,6,7,8,9,10,11,12,13,14,15,16,17,18,19,20],\"y\":[0.007290000000000001,0.007245124001469278,0.007111601001895836,0.006892718780666602,0.006593866944496684,0.006222404217424967,0.0057874772446060655,0.005299795371550649,0.004771366944496684,0.004215203625071643,0.0036450000000000007,0.003074796374928358,0.0025186330555033174,0.0019902046284493526,0.001502522755393936,0.0010675957825750347,0.000696133055503317,0.0003972812193333995,0.00017839899810416542,0.00004487599853072324,0.0],\"type\":\"scatter\"},{\"mode\":\"lines+markers\",\"name\":\"DebertaV2Layer_3_decay\",\"x\":[0,1,2,3,4,5,6,7,8,9,10,11,12,13,14,15,16,17,18,19,20],\"y\":[0.006561000000000002,0.006520611601322351,0.006400440901706253,0.006203446902599942,0.005934480250047017,0.0056001637956824704,0.005208729520145459,0.004769815834395584,0.0042942302500470165,0.003793683262564479,0.003280500000000001,0.002767316737435523,0.0022667697499529856,0.0017911841656044175,0.0013522704798545426,0.0009608362043175313,0.0006265197499529854,0.00035755309740005957,0.00016055909829374888,0.00004038839867765092,0.0],\"type\":\"scatter\"},{\"mode\":\"lines+markers\",\"name\":\"DebertaV2Layer_3_no_decay\",\"x\":[0,1,2,3,4,5,6,7,8,9,10,11,12,13,14,15,16,17,18,19,20],\"y\":[0.006561000000000002,0.006520611601322351,0.006400440901706253,0.006203446902599942,0.005934480250047017,0.0056001637956824704,0.005208729520145459,0.004769815834395584,0.0042942302500470165,0.003793683262564479,0.003280500000000001,0.002767316737435523,0.0022667697499529856,0.0017911841656044175,0.0013522704798545426,0.0009608362043175313,0.0006265197499529854,0.00035755309740005957,0.00016055909829374888,0.00004038839867765092,0.0],\"type\":\"scatter\"},{\"mode\":\"lines+markers\",\"name\":\"DebertaV2Layer_4_decay\",\"x\":[0,1,2,3,4,5,6,7,8,9,10,11,12,13,14,15,16,17,18,19,20],\"y\":[0.005904900000000002,0.005868550441190117,0.005760396811535629,0.005583102212339948,0.005341032225042315,0.005040147416114224,0.004687856568130914,0.0042928342509560265,0.0038648072250423147,0.003414314936308031,0.002952450000000001,0.0024905850636919706,0.0020400927749576873,0.0016120657490439757,0.0012170434318690884,0.0008647525838857783,0.0005638677749576869,0.00032179778766005363,0.000144503188464374,0.00003634955880988583,0.0],\"type\":\"scatter\"},{\"mode\":\"lines+markers\",\"name\":\"DebertaV2Layer_4_no_decay\",\"x\":[0,1,2,3,4,5,6,7,8,9,10,11,12,13,14,15,16,17,18,19,20],\"y\":[0.005904900000000002,0.005868550441190117,0.005760396811535629,0.005583102212339948,0.005341032225042315,0.005040147416114224,0.004687856568130914,0.0042928342509560265,0.0038648072250423147,0.003414314936308031,0.002952450000000001,0.0024905850636919706,0.0020400927749576873,0.0016120657490439757,0.0012170434318690884,0.0008647525838857783,0.0005638677749576869,0.00032179778766005363,0.000144503188464374,0.00003634955880988583,0.0],\"type\":\"scatter\"},{\"mode\":\"lines+markers\",\"name\":\"DebertaV2Layer_5_decay\",\"x\":[0,1,2,3,4,5,6,7,8,9,10,11,12,13,14,15,16,17,18,19,20],\"y\":[0.005314410000000002,0.0052816953970711055,0.005184357130382066,0.005024791991105954,0.004806929002538084,0.004536132674502802,0.0042190709113178225,0.0038635508258604238,0.0034783265025380835,0.003072883442677228,0.002657205000000001,0.0022415265573227736,0.0018360834974619187,0.0014508591741395783,0.0010953390886821797,0.0007782773254972004,0.0005074809974619182,0.00028961800889404826,0.0001300528696179366,0.00003271460292889725,0.0],\"type\":\"scatter\"},{\"mode\":\"lines+markers\",\"name\":\"DebertaV2Layer_5_no_decay\",\"x\":[0,1,2,3,4,5,6,7,8,9,10,11,12,13,14,15,16,17,18,19,20],\"y\":[0.005314410000000002,0.0052816953970711055,0.005184357130382066,0.005024791991105954,0.004806929002538084,0.004536132674502802,0.0042190709113178225,0.0038635508258604238,0.0034783265025380835,0.003072883442677228,0.002657205000000001,0.0022415265573227736,0.0018360834974619187,0.0014508591741395783,0.0010953390886821797,0.0007782773254972004,0.0005074809974619182,0.00028961800889404826,0.0001300528696179366,0.00003271460292889725,0.0],\"type\":\"scatter\"},{\"mode\":\"lines+markers\",\"name\":\"DebertaV2Layer_6_decay\",\"x\":[0,1,2,3,4,5,6,7,8,9,10,11,12,13,14,15,16,17,18,19,20],\"y\":[0.004782969000000002,0.0047535258573639955,0.00466592141734386,0.004522312791995359,0.004326236102284276,0.004082519407052522,0.0037971638201860407,0.003477195743274382,0.0031304938522842755,0.0027655950984095054,0.002391484500000001,0.0020173739015904965,0.001652475147715727,0.0013057732567256205,0.0009858051798139619,0.0007004495929474805,0.00045673289771572647,0.00026065620800464346,0.00011704758265614296,0.000029443142636007527,0.0],\"type\":\"scatter\"},{\"mode\":\"lines+markers\",\"name\":\"DebertaV2Layer_6_no_decay\",\"x\":[0,1,2,3,4,5,6,7,8,9,10,11,12,13,14,15,16,17,18,19,20],\"y\":[0.004782969000000002,0.0047535258573639955,0.00466592141734386,0.004522312791995359,0.004326236102284276,0.004082519407052522,0.0037971638201860407,0.003477195743274382,0.0031304938522842755,0.0027655950984095054,0.002391484500000001,0.0020173739015904965,0.001652475147715727,0.0013057732567256205,0.0009858051798139619,0.0007004495929474805,0.00045673289771572647,0.00026065620800464346,0.00011704758265614296,0.000029443142636007527,0.0],\"type\":\"scatter\"},{\"mode\":\"lines+markers\",\"name\":\"DebertaV2Layer_7_decay\",\"x\":[0,1,2,3,4,5,6,7,8,9,10,11,12,13,14,15,16,17,18,19,20],\"y\":[0.004304672100000002,0.004278173271627595,0.0041993292756094735,0.004070081512795823,0.0038936124920558486,0.0036742674663472696,0.003417447438167437,0.0031294761689469436,0.002817444467055848,0.002489035588568555,0.002152336050000001,0.001815636511431447,0.0014872276329441544,0.0011751959310530584,0.0008872246618325656,0.0006304046336527324,0.0004110596079441538,0.00023459058720417912,0.00010534282439052867,0.000026498828372406774,0.0],\"type\":\"scatter\"},{\"mode\":\"lines+markers\",\"name\":\"DebertaV2Layer_7_no_decay\",\"x\":[0,1,2,3,4,5,6,7,8,9,10,11,12,13,14,15,16,17,18,19,20],\"y\":[0.004304672100000002,0.004278173271627595,0.0041993292756094735,0.004070081512795823,0.0038936124920558486,0.0036742674663472696,0.003417447438167437,0.0031294761689469436,0.002817444467055848,0.002489035588568555,0.002152336050000001,0.001815636511431447,0.0014872276329441544,0.0011751959310530584,0.0008872246618325656,0.0006304046336527324,0.0004110596079441538,0.00023459058720417912,0.00010534282439052867,0.000026498828372406774,0.0],\"type\":\"scatter\"},{\"mode\":\"lines+markers\",\"name\":\"DebertaV2Layer_8_decay\",\"x\":[0,1,2,3,4,5,6,7,8,9,10,11,12,13,14,15,16,17,18,19,20],\"y\":[0.003874204890000002,0.0038503559444648364,0.0037793963480485266,0.0036630733615162408,0.0035042512428502637,0.0033068407197125427,0.0030757026943506933,0.0028165285520522494,0.0025357000203502632,0.0022401320297117,0.001937102445000001,0.0016340728602883023,0.001338504869649739,0.0010576763379477527,0.0007985021956493091,0.0005673641702874593,0.0003699536471497385,0.00021113152848376124,0.00009480854195147581,0.000023848945535166097,0.0],\"type\":\"scatter\"},{\"mode\":\"lines+markers\",\"name\":\"DebertaV2Layer_8_no_decay\",\"x\":[0,1,2,3,4,5,6,7,8,9,10,11,12,13,14,15,16,17,18,19,20],\"y\":[0.003874204890000002,0.0038503559444648364,0.0037793963480485266,0.0036630733615162408,0.0035042512428502637,0.0033068407197125427,0.0030757026943506933,0.0028165285520522494,0.0025357000203502632,0.0022401320297117,0.001937102445000001,0.0016340728602883023,0.001338504869649739,0.0010576763379477527,0.0007985021956493091,0.0005673641702874593,0.0003699536471497385,0.00021113152848376124,0.00009480854195147581,0.000023848945535166097,0.0],\"type\":\"scatter\"},{\"mode\":\"lines+markers\",\"name\":\"DebertaV2Layer_9_decay\",\"x\":[0,1,2,3,4,5,6,7,8,9,10,11,12,13,14,15,16,17,18,19,20],\"y\":[0.003486784401000002,0.003465320350018353,0.003401456713243674,0.003296766025364617,0.0031538261185652377,0.0029761566477412888,0.002768132424915624,0.0025348756968470248,0.002282130018315237,0.0020161188267405297,0.001743392200500001,0.0014706655742594721,0.001204654382684765,0.0009519087041529775,0.0007186519760843782,0.0005106277532587134,0.0003329582824347646,0.00019001837563538512,0.00008532768775632822,0.000021464050981649488,0.0],\"type\":\"scatter\"},{\"mode\":\"lines+markers\",\"name\":\"DebertaV2Layer_9_no_decay\",\"x\":[0,1,2,3,4,5,6,7,8,9,10,11,12,13,14,15,16,17,18,19,20],\"y\":[0.003486784401000002,0.003465320350018353,0.003401456713243674,0.003296766025364617,0.0031538261185652377,0.0029761566477412888,0.002768132424915624,0.0025348756968470248,0.002282130018315237,0.0020161188267405297,0.001743392200500001,0.0014706655742594721,0.001204654382684765,0.0009519087041529775,0.0007186519760843782,0.0005106277532587134,0.0003329582824347646,0.00019001837563538512,0.00008532768775632822,0.000021464050981649488,0.0],\"type\":\"scatter\"},{\"mode\":\"lines+markers\",\"name\":\"DebertaV2Layer_10_decay\",\"x\":[0,1,2,3,4,5,6,7,8,9,10,11,12,13,14,15,16,17,18,19,20],\"y\":[0.003138105960900002,0.0031187883150165176,0.0030613110419193067,0.0029670894228281553,0.002838443506708714,0.00267854098296716,0.0024913191824240616,0.002281388127162322,0.0020539170164837134,0.0018145069440664767,0.001569052980450001,0.001323599016833525,0.0010841889444162887,0.0008567178337376797,0.0006467867784759404,0.000459564977932842,0.00029966245419128817,0.00017101653807184662,0.00007679491898069541,0.000019317645883484542,0.0],\"type\":\"scatter\"},{\"mode\":\"lines+markers\",\"name\":\"DebertaV2Layer_10_no_decay\",\"x\":[0,1,2,3,4,5,6,7,8,9,10,11,12,13,14,15,16,17,18,19,20],\"y\":[0.003138105960900002,0.0031187883150165176,0.0030613110419193067,0.0029670894228281553,0.002838443506708714,0.00267854098296716,0.0024913191824240616,0.002281388127162322,0.0020539170164837134,0.0018145069440664767,0.001569052980450001,0.001323599016833525,0.0010841889444162887,0.0008567178337376797,0.0006467867784759404,0.000459564977932842,0.00029966245419128817,0.00017101653807184662,0.00007679491898069541,0.000019317645883484542,0.0],\"type\":\"scatter\"},{\"mode\":\"lines+markers\",\"name\":\"DebertaV2Layer_11_decay\",\"x\":[0,1,2,3,4,5,6,7,8,9,10,11,12,13,14,15,16,17,18,19,20],\"y\":[0.0028242953648100018,0.002806909483514866,0.002755179937727376,0.0026703804805453396,0.0025545991560378426,0.002410686884670444,0.0022421872641816554,0.00205324931444609,0.0018485253148353422,0.0016330562496598292,0.0014121476824050009,0.0011912391151501724,0.0009757700499746598,0.0007710460503639118,0.0005821081006283464,0.0004136084801395578,0.0002696962087721594,0.00015391488426466196,0.00006911542708262586,0.000017385881295136088,0.0],\"type\":\"scatter\"},{\"mode\":\"lines+markers\",\"name\":\"DebertaV2Layer_11_no_decay\",\"x\":[0,1,2,3,4,5,6,7,8,9,10,11,12,13,14,15,16,17,18,19,20],\"y\":[0.0028242953648100018,0.002806909483514866,0.002755179937727376,0.0026703804805453396,0.0025545991560378426,0.002410686884670444,0.0022421872641816554,0.00205324931444609,0.0018485253148353422,0.0016330562496598292,0.0014121476824050009,0.0011912391151501724,0.0009757700499746598,0.0007710460503639118,0.0005821081006283464,0.0004136084801395578,0.0002696962087721594,0.00015391488426466196,0.00006911542708262586,0.000017385881295136088,0.0],\"type\":\"scatter\"},{\"mode\":\"lines+markers\",\"name\":\"DebertaV2Embeddings_12_decay\",\"x\":[0,1,2,3,4,5,6,7,8,9,10,11,12,13,14,15,16,17,18,19,20],\"y\":[0.0025418658283290017,0.0025262185351633795,0.0024796619439546386,0.002403342432490806,0.0022991392404340585,0.0021696181962033998,0.00201796853776349,0.0018479243830014811,0.001663672783351808,0.0014697506246938463,0.0012709329141645008,0.0010721152036351552,0.0008781930449771938,0.0006939414453275206,0.0005238972905655117,0.00037224763212560205,0.00024272658789494344,0.00013852339583819576,0.00006220388437436328,0.00001564729316562248,0.0],\"type\":\"scatter\"},{\"mode\":\"lines+markers\",\"name\":\"DebertaV2Embeddings_12_no_decay\",\"x\":[0,1,2,3,4,5,6,7,8,9,10,11,12,13,14,15,16,17,18,19,20],\"y\":[0.0025418658283290017,0.0025262185351633795,0.0024796619439546386,0.002403342432490806,0.0022991392404340585,0.0021696181962033998,0.00201796853776349,0.0018479243830014811,0.001663672783351808,0.0014697506246938463,0.0012709329141645008,0.0010721152036351552,0.0008781930449771938,0.0006939414453275206,0.0005238972905655117,0.00037224763212560205,0.00024272658789494344,0.00013852339583819576,0.00006220388437436328,0.00001564729316562248,0.0],\"type\":\"scatter\"}],                        {\"template\":{\"data\":{\"barpolar\":[{\"marker\":{\"line\":{\"color\":\"white\",\"width\":0.5},\"pattern\":{\"fillmode\":\"overlay\",\"size\":10,\"solidity\":0.2}},\"type\":\"barpolar\"}],\"bar\":[{\"error_x\":{\"color\":\"#2a3f5f\"},\"error_y\":{\"color\":\"#2a3f5f\"},\"marker\":{\"line\":{\"color\":\"white\",\"width\":0.5},\"pattern\":{\"fillmode\":\"overlay\",\"size\":10,\"solidity\":0.2}},\"type\":\"bar\"}],\"carpet\":[{\"aaxis\":{\"endlinecolor\":\"#2a3f5f\",\"gridcolor\":\"#C8D4E3\",\"linecolor\":\"#C8D4E3\",\"minorgridcolor\":\"#C8D4E3\",\"startlinecolor\":\"#2a3f5f\"},\"baxis\":{\"endlinecolor\":\"#2a3f5f\",\"gridcolor\":\"#C8D4E3\",\"linecolor\":\"#C8D4E3\",\"minorgridcolor\":\"#C8D4E3\",\"startlinecolor\":\"#2a3f5f\"},\"type\":\"carpet\"}],\"choropleth\":[{\"colorbar\":{\"outlinewidth\":0,\"ticks\":\"\"},\"type\":\"choropleth\"}],\"contourcarpet\":[{\"colorbar\":{\"outlinewidth\":0,\"ticks\":\"\"},\"type\":\"contourcarpet\"}],\"contour\":[{\"colorbar\":{\"outlinewidth\":0,\"ticks\":\"\"},\"colorscale\":[[0.0,\"#0d0887\"],[0.1111111111111111,\"#46039f\"],[0.2222222222222222,\"#7201a8\"],[0.3333333333333333,\"#9c179e\"],[0.4444444444444444,\"#bd3786\"],[0.5555555555555556,\"#d8576b\"],[0.6666666666666666,\"#ed7953\"],[0.7777777777777778,\"#fb9f3a\"],[0.8888888888888888,\"#fdca26\"],[1.0,\"#f0f921\"]],\"type\":\"contour\"}],\"heatmapgl\":[{\"colorbar\":{\"outlinewidth\":0,\"ticks\":\"\"},\"colorscale\":[[0.0,\"#0d0887\"],[0.1111111111111111,\"#46039f\"],[0.2222222222222222,\"#7201a8\"],[0.3333333333333333,\"#9c179e\"],[0.4444444444444444,\"#bd3786\"],[0.5555555555555556,\"#d8576b\"],[0.6666666666666666,\"#ed7953\"],[0.7777777777777778,\"#fb9f3a\"],[0.8888888888888888,\"#fdca26\"],[1.0,\"#f0f921\"]],\"type\":\"heatmapgl\"}],\"heatmap\":[{\"colorbar\":{\"outlinewidth\":0,\"ticks\":\"\"},\"colorscale\":[[0.0,\"#0d0887\"],[0.1111111111111111,\"#46039f\"],[0.2222222222222222,\"#7201a8\"],[0.3333333333333333,\"#9c179e\"],[0.4444444444444444,\"#bd3786\"],[0.5555555555555556,\"#d8576b\"],[0.6666666666666666,\"#ed7953\"],[0.7777777777777778,\"#fb9f3a\"],[0.8888888888888888,\"#fdca26\"],[1.0,\"#f0f921\"]],\"type\":\"heatmap\"}],\"histogram2dcontour\":[{\"colorbar\":{\"outlinewidth\":0,\"ticks\":\"\"},\"colorscale\":[[0.0,\"#0d0887\"],[0.1111111111111111,\"#46039f\"],[0.2222222222222222,\"#7201a8\"],[0.3333333333333333,\"#9c179e\"],[0.4444444444444444,\"#bd3786\"],[0.5555555555555556,\"#d8576b\"],[0.6666666666666666,\"#ed7953\"],[0.7777777777777778,\"#fb9f3a\"],[0.8888888888888888,\"#fdca26\"],[1.0,\"#f0f921\"]],\"type\":\"histogram2dcontour\"}],\"histogram2d\":[{\"colorbar\":{\"outlinewidth\":0,\"ticks\":\"\"},\"colorscale\":[[0.0,\"#0d0887\"],[0.1111111111111111,\"#46039f\"],[0.2222222222222222,\"#7201a8\"],[0.3333333333333333,\"#9c179e\"],[0.4444444444444444,\"#bd3786\"],[0.5555555555555556,\"#d8576b\"],[0.6666666666666666,\"#ed7953\"],[0.7777777777777778,\"#fb9f3a\"],[0.8888888888888888,\"#fdca26\"],[1.0,\"#f0f921\"]],\"type\":\"histogram2d\"}],\"histogram\":[{\"marker\":{\"pattern\":{\"fillmode\":\"overlay\",\"size\":10,\"solidity\":0.2}},\"type\":\"histogram\"}],\"mesh3d\":[{\"colorbar\":{\"outlinewidth\":0,\"ticks\":\"\"},\"type\":\"mesh3d\"}],\"parcoords\":[{\"line\":{\"colorbar\":{\"outlinewidth\":0,\"ticks\":\"\"}},\"type\":\"parcoords\"}],\"pie\":[{\"automargin\":true,\"type\":\"pie\"}],\"scatter3d\":[{\"line\":{\"colorbar\":{\"outlinewidth\":0,\"ticks\":\"\"}},\"marker\":{\"colorbar\":{\"outlinewidth\":0,\"ticks\":\"\"}},\"type\":\"scatter3d\"}],\"scattercarpet\":[{\"marker\":{\"colorbar\":{\"outlinewidth\":0,\"ticks\":\"\"}},\"type\":\"scattercarpet\"}],\"scattergeo\":[{\"marker\":{\"colorbar\":{\"outlinewidth\":0,\"ticks\":\"\"}},\"type\":\"scattergeo\"}],\"scattergl\":[{\"marker\":{\"colorbar\":{\"outlinewidth\":0,\"ticks\":\"\"}},\"type\":\"scattergl\"}],\"scattermapbox\":[{\"marker\":{\"colorbar\":{\"outlinewidth\":0,\"ticks\":\"\"}},\"type\":\"scattermapbox\"}],\"scatterpolargl\":[{\"marker\":{\"colorbar\":{\"outlinewidth\":0,\"ticks\":\"\"}},\"type\":\"scatterpolargl\"}],\"scatterpolar\":[{\"marker\":{\"colorbar\":{\"outlinewidth\":0,\"ticks\":\"\"}},\"type\":\"scatterpolar\"}],\"scatter\":[{\"fillpattern\":{\"fillmode\":\"overlay\",\"size\":10,\"solidity\":0.2},\"type\":\"scatter\"}],\"scatterternary\":[{\"marker\":{\"colorbar\":{\"outlinewidth\":0,\"ticks\":\"\"}},\"type\":\"scatterternary\"}],\"surface\":[{\"colorbar\":{\"outlinewidth\":0,\"ticks\":\"\"},\"colorscale\":[[0.0,\"#0d0887\"],[0.1111111111111111,\"#46039f\"],[0.2222222222222222,\"#7201a8\"],[0.3333333333333333,\"#9c179e\"],[0.4444444444444444,\"#bd3786\"],[0.5555555555555556,\"#d8576b\"],[0.6666666666666666,\"#ed7953\"],[0.7777777777777778,\"#fb9f3a\"],[0.8888888888888888,\"#fdca26\"],[1.0,\"#f0f921\"]],\"type\":\"surface\"}],\"table\":[{\"cells\":{\"fill\":{\"color\":\"#EBF0F8\"},\"line\":{\"color\":\"white\"}},\"header\":{\"fill\":{\"color\":\"#C8D4E3\"},\"line\":{\"color\":\"white\"}},\"type\":\"table\"}]},\"layout\":{\"annotationdefaults\":{\"arrowcolor\":\"#2a3f5f\",\"arrowhead\":0,\"arrowwidth\":1},\"autotypenumbers\":\"strict\",\"coloraxis\":{\"colorbar\":{\"outlinewidth\":0,\"ticks\":\"\"}},\"colorscale\":{\"diverging\":[[0,\"#8e0152\"],[0.1,\"#c51b7d\"],[0.2,\"#de77ae\"],[0.3,\"#f1b6da\"],[0.4,\"#fde0ef\"],[0.5,\"#f7f7f7\"],[0.6,\"#e6f5d0\"],[0.7,\"#b8e186\"],[0.8,\"#7fbc41\"],[0.9,\"#4d9221\"],[1,\"#276419\"]],\"sequential\":[[0.0,\"#0d0887\"],[0.1111111111111111,\"#46039f\"],[0.2222222222222222,\"#7201a8\"],[0.3333333333333333,\"#9c179e\"],[0.4444444444444444,\"#bd3786\"],[0.5555555555555556,\"#d8576b\"],[0.6666666666666666,\"#ed7953\"],[0.7777777777777778,\"#fb9f3a\"],[0.8888888888888888,\"#fdca26\"],[1.0,\"#f0f921\"]],\"sequentialminus\":[[0.0,\"#0d0887\"],[0.1111111111111111,\"#46039f\"],[0.2222222222222222,\"#7201a8\"],[0.3333333333333333,\"#9c179e\"],[0.4444444444444444,\"#bd3786\"],[0.5555555555555556,\"#d8576b\"],[0.6666666666666666,\"#ed7953\"],[0.7777777777777778,\"#fb9f3a\"],[0.8888888888888888,\"#fdca26\"],[1.0,\"#f0f921\"]]},\"colorway\":[\"#636efa\",\"#EF553B\",\"#00cc96\",\"#ab63fa\",\"#FFA15A\",\"#19d3f3\",\"#FF6692\",\"#B6E880\",\"#FF97FF\",\"#FECB52\"],\"font\":{\"color\":\"#2a3f5f\"},\"geo\":{\"bgcolor\":\"white\",\"lakecolor\":\"white\",\"landcolor\":\"white\",\"showlakes\":true,\"showland\":true,\"subunitcolor\":\"#C8D4E3\"},\"hoverlabel\":{\"align\":\"left\"},\"hovermode\":\"closest\",\"mapbox\":{\"style\":\"light\"},\"paper_bgcolor\":\"white\",\"plot_bgcolor\":\"white\",\"polar\":{\"angularaxis\":{\"gridcolor\":\"#EBF0F8\",\"linecolor\":\"#EBF0F8\",\"ticks\":\"\"},\"bgcolor\":\"white\",\"radialaxis\":{\"gridcolor\":\"#EBF0F8\",\"linecolor\":\"#EBF0F8\",\"ticks\":\"\"}},\"scene\":{\"xaxis\":{\"backgroundcolor\":\"white\",\"gridcolor\":\"#DFE8F3\",\"gridwidth\":2,\"linecolor\":\"#EBF0F8\",\"showbackground\":true,\"ticks\":\"\",\"zerolinecolor\":\"#EBF0F8\"},\"yaxis\":{\"backgroundcolor\":\"white\",\"gridcolor\":\"#DFE8F3\",\"gridwidth\":2,\"linecolor\":\"#EBF0F8\",\"showbackground\":true,\"ticks\":\"\",\"zerolinecolor\":\"#EBF0F8\"},\"zaxis\":{\"backgroundcolor\":\"white\",\"gridcolor\":\"#DFE8F3\",\"gridwidth\":2,\"linecolor\":\"#EBF0F8\",\"showbackground\":true,\"ticks\":\"\",\"zerolinecolor\":\"#EBF0F8\"}},\"shapedefaults\":{\"line\":{\"color\":\"#2a3f5f\"}},\"ternary\":{\"aaxis\":{\"gridcolor\":\"#DFE8F3\",\"linecolor\":\"#A2B1C6\",\"ticks\":\"\"},\"baxis\":{\"gridcolor\":\"#DFE8F3\",\"linecolor\":\"#A2B1C6\",\"ticks\":\"\"},\"bgcolor\":\"white\",\"caxis\":{\"gridcolor\":\"#DFE8F3\",\"linecolor\":\"#A2B1C6\",\"ticks\":\"\"}},\"title\":{\"x\":0.05},\"xaxis\":{\"automargin\":true,\"gridcolor\":\"#EBF0F8\",\"linecolor\":\"#EBF0F8\",\"ticks\":\"\",\"title\":{\"standoff\":15},\"zerolinecolor\":\"#EBF0F8\",\"zerolinewidth\":2},\"yaxis\":{\"automargin\":true,\"gridcolor\":\"#EBF0F8\",\"linecolor\":\"#EBF0F8\",\"ticks\":\"\",\"title\":{\"standoff\":15},\"zerolinecolor\":\"#EBF0F8\",\"zerolinewidth\":2}}},\"title\":{\"text\":\"Learning Rate per Epoch by Parameter Group\"},\"xaxis\":{\"title\":{\"text\":\"Epoch\"}},\"yaxis\":{\"title\":{\"text\":\"Learning Rate\"}}},                        {\"responsive\": true}                    ).then(function(){\n",
       "                            \n",
       "var gd = document.getElementById('1ea38b62-183f-4b50-8f7a-a79c84373e24');\n",
       "var x = new MutationObserver(function (mutations, observer) {{\n",
       "        var display = window.getComputedStyle(gd).display;\n",
       "        if (!display || display === 'none') {{\n",
       "            console.log([gd, 'removed!']);\n",
       "            Plotly.purge(gd);\n",
       "            observer.disconnect();\n",
       "        }}\n",
       "}});\n",
       "\n",
       "// Listen for the removal of the full notebook cells\n",
       "var notebookContainer = gd.closest('#notebook-container');\n",
       "if (notebookContainer) {{\n",
       "    x.observe(notebookContainer, {childList: true});\n",
       "}}\n",
       "\n",
       "// Listen for the clearing of the current output cell\n",
       "var outputEl = gd.closest('.output');\n",
       "if (outputEl) {{\n",
       "    x.observe(outputEl, {childList: true});\n",
       "}}\n",
       "\n",
       "                        })                };                });            </script>        </div>"
      ]
     },
     "metadata": {},
     "output_type": "display_data"
    },
    {
     "data": {
      "text/plain": [
       "'learning_rates.html'"
      ]
     },
     "execution_count": 17,
     "metadata": {},
     "output_type": "execute_result"
    }
   ],
   "source": [
    "import plotly.graph_objs as go\n",
    "import plotly.offline as pyo\n",
    "import plotly.graph_objs as go\n",
    "from plotly.offline import init_notebook_mode, iplot\n",
    "import plotly.graph_objs as go\n",
    "from plotly.offline import init_notebook_mode, iplot\n",
    "\n",
    "init_notebook_mode(connected=True)  # This makes plotly display in the notebook\n",
    "\n",
    "# Prepare the plot\n",
    "traces = []\n",
    "epochs = list(range(len(learning_rate_storage[0][1])))  # Assuming all groups have the same number of entries\n",
    "\n",
    "for group_name, rates in learning_rate_storage:\n",
    "    traces.append(go.Scatter(\n",
    "        x=epochs,\n",
    "        y=rates,\n",
    "        mode='lines+markers',\n",
    "        name=group_name  # Use the stored group name for the trace label\n",
    "    ))\n",
    "\n",
    "# Setting up a clean layout\n",
    "layout = go.Layout(\n",
    "    title='Learning Rate per Epoch by Parameter Group',\n",
    "    xaxis=dict(title='Epoch'),\n",
    "    yaxis=dict(title='Learning Rate'),\n",
    "    template='plotly_white'\n",
    ")\n",
    "\n",
    "fig = go.Figure(data=traces, layout=layout)\n",
    "iplot(fig)  # Display the figure inline in a notebook\n",
    "\n",
    "pyo.plot(fig, filename='learning_rates.html')  # This will save the plot to an HTML file and open it in your browser\n"
   ]
  },
  {
   "cell_type": "code",
   "execution_count": null,
   "metadata": {},
   "outputs": [],
   "source": []
  }
 ],
 "metadata": {
  "kernelspec": {
   "display_name": "cs336",
   "language": "python",
   "name": "python3"
  },
  "language_info": {
   "codemirror_mode": {
    "name": "ipython",
    "version": 3
   },
   "file_extension": ".py",
   "mimetype": "text/x-python",
   "name": "python",
   "nbconvert_exporter": "python",
   "pygments_lexer": "ipython3",
   "version": "3.11.9"
  }
 },
 "nbformat": 4,
 "nbformat_minor": 2
}
